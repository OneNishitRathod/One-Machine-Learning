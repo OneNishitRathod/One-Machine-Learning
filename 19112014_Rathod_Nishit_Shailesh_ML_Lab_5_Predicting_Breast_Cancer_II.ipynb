{
 "cells": [
  {
   "cell_type": "markdown",
   "id": "6cf29c5a",
   "metadata": {
    "id": "6cf29c5a"
   },
   "source": [
    "# Machine Learning Lab 5 - Predicting Breast Cancer II\n",
    "Submitted By <br/>\n",
    "Name: **Rathod Nishit Shailesh** <br/>\n",
    "Register Number: **19112014** <br/>\n",
    "Class: **5 BSc Data Science** <br/>\n",
    "\n",
    "<hr/>"
   ]
  },
  {
   "cell_type": "markdown",
   "id": "62b3d9d1",
   "metadata": {
    "id": "62b3d9d1"
   },
   "source": [
    "## Lab Overview\n",
    "\n",
    "##### About the Dataset\n",
    "Features are computed from a digitized image of a fine needle aspirate (FNA) of a breast mass. They describe characteristics of the cell nuclei present in the image.\n",
    "n the 3-dimensional space is that described in: [K. P. Bennett and O. L. Mangasarian: \"Robust Linear Programming Discrimination of Two Linearly Inseparable Sets\", Optimization Methods and Software 1, 1992, 23-34].\n",
    "\n",
    "This database is also available through the UW CS ftp server:\n",
    "- ftp.cs.wisc.edu - cd math-prog/cpo-dataset/machine-learn/WDBC/\n",
    "\n",
    "Also can be found on UCI Machine Learning Repository: \n",
    "1. https://archive.ics.uci.edu/ml/datasets/Breast+Cancer+Wisconsin+%28Diagnostic%29\n",
    "\n",
    "Attribute Information:\n",
    "\n",
    "1. ID number\n",
    "2. Diagnosis (M = malignant, B = benign)\n",
    "3. Ten real-valued features are computed for each cell nucleus:\n",
    "    1. radius (mean of distances from center to points on the perimeter)\n",
    "    1. texture (standard deviation of gray-scale values)\n",
    "    1. perimeter\n",
    "    1. area\n",
    "    1. smoothness (local variation in radius lengths)\n",
    "    1. compactness (perimeter^2 / area - 1.0)\n",
    "    1. concavity (severity of concave portions of the contour)\n",
    "    1. concave points (number of concave portions of the contour)\n",
    "    1. symmetry\n",
    "    1. fractal dimension (\"coastline approximation\" - 1)\n",
    "\n",
    "- The mean, standard error and \"worst\" or largest (mean of the three largest values) of these features were computed for each image, resulting in 30 features. For instance, field 3 is Mean Radius, field 13 is Radius SE, field 23 is Worst Radius.\n",
    "\n",
    "- All feature values are recoded with four significant digits.\n",
    "\n",
    "- Missing attribute values: none\n",
    "\n",
    "- Class distribution: 357 benign, 212 malignant\n",
    "\n",
    "#### Objective\n",
    "- Get familiar with the problem statement, Know the dataset thoroghly, Analyse the given dataset by exploring the hidden insights with beautiful visuals and Train & Test the model for acurate classification prediction of Breast Cancer.\n",
    "\n",
    "#### Problem Definition\n",
    "- Understand the Dataset & Features.\n",
    "- Perform Data Preprocessing Technique to Get Balanced Structured Data.\n",
    "- Perform Statistical Data Analysis and Derive Valuable Inferences.\n",
    "- Perform Exploratory Data Analysis and Derive Valuable Insights.\n",
    "- Train and Test through Different Classification Models for Better Pricdiction. \n",
    "\n",
    "#### Approach\n",
    "This is an extension to the Problem Defnintion. Mention the process/appraoch that you have followed in order to reach out the above problem defintion.\n",
    "\n",
    "- Step 1: Know the dataset thoroughly.\n",
    "- Step 2: Perform preprocessing on data.\n",
    "- Step 3: Import needfull libraries as an when you try to plot different graphs and evaluate the model.\n",
    "- Step 4: Perform Statistical Data Analysis and Derive Valuable Inferences.\n",
    "- Step 5: Perform Exploratory Data Analysis and Derive Valuable Insights.\n",
    "- Step 6: Train and Test through Different Classification Models for Better Breast Cancer Prediction.\n",
    "- Step 7: Help the doctors with insights for predicting if a patient is diaganose with breast cancer or not.\n",
    "\n",
    "#### Sections\n",
    "Here, mentioned sections are defined in the below code. For this lab, the sections are -\n",
    "1. Lab Overview\n",
    "1. Dataset Overview\n",
    "1. Data Analyst Process\n",
    "1. About Different Classification Models\n",
    "1. Implementation and Evaluation of Different Classification Models\n",
    "1. Conclusion\n",
    "\n",
    "#### References\n",
    "1. https://pandas.pydata.org/\n",
    "1. https://matplotlib.org/\n",
    "1. https://seaborn.pydata.org/\n",
    "1. https://plotly.com/\n",
    "1. https://scikit-learn.org/stable/modules/generated/sklearn.tree.DecisionTreeClassifier.html\n",
    "1. https://scikit-learn.org/stable/modules/generated/sklearn.ensemble.RandomForestClassifier.html\n",
    "1. https://www.kaggle.com/uciml/breast-cancer-wisconsin-data"
   ]
  },
  {
   "cell_type": "code",
   "execution_count": 1,
   "id": "nID5JDTEsshW",
   "metadata": {
    "id": "nID5JDTEsshW"
   },
   "outputs": [],
   "source": [
    "import pandas as pd\n",
    "import numpy as np\n",
    "import matplotlib.pyplot as plt\n",
    "import seaborn as sns\n",
    "\n",
    "%matplotlib inline\n",
    "\n",
    "import warnings\n",
    "warnings.filterwarnings(\"ignore\")"
   ]
  },
  {
   "cell_type": "code",
   "execution_count": 2,
   "id": "54q9uWT6tVcM",
   "metadata": {
    "id": "54q9uWT6tVcM"
   },
   "outputs": [],
   "source": [
    "df = pd.read_csv(\"BreastCancer.csv\")"
   ]
  },
  {
   "cell_type": "code",
   "execution_count": 3,
   "id": "fzLfY27zte01",
   "metadata": {
    "colab": {
     "base_uri": "https://localhost:8080/"
    },
    "id": "fzLfY27zte01",
    "outputId": "1e4f51b2-94cc-4575-930b-2dab27055279"
   },
   "outputs": [
    {
     "data": {
      "text/plain": [
       "(569, 33)"
      ]
     },
     "execution_count": 3,
     "metadata": {},
     "output_type": "execute_result"
    }
   ],
   "source": [
    "df.shape"
   ]
  },
  {
   "cell_type": "code",
   "execution_count": 4,
   "id": "AAncCXS9trTe",
   "metadata": {
    "colab": {
     "base_uri": "https://localhost:8080/"
    },
    "id": "AAncCXS9trTe",
    "outputId": "306d765b-73b5-4e0d-d1f7-2111fc882f54"
   },
   "outputs": [
    {
     "data": {
      "text/plain": [
       "Index(['id', 'diagnosis', 'radius_mean', 'texture_mean', 'perimeter_mean',\n",
       "       'area_mean', 'smoothness_mean', 'compactness_mean', 'concavity_mean',\n",
       "       'concave points_mean', 'symmetry_mean', 'fractal_dimension_mean',\n",
       "       'radius_se', 'texture_se', 'perimeter_se', 'area_se', 'smoothness_se',\n",
       "       'compactness_se', 'concavity_se', 'concave points_se', 'symmetry_se',\n",
       "       'fractal_dimension_se', 'radius_worst', 'texture_worst',\n",
       "       'perimeter_worst', 'area_worst', 'smoothness_worst',\n",
       "       'compactness_worst', 'concavity_worst', 'concave points_worst',\n",
       "       'symmetry_worst', 'fractal_dimension_worst', 'Unnamed: 32'],\n",
       "      dtype='object')"
      ]
     },
     "execution_count": 4,
     "metadata": {},
     "output_type": "execute_result"
    }
   ],
   "source": [
    "df.columns"
   ]
  },
  {
   "cell_type": "code",
   "execution_count": 5,
   "id": "XaYGm_PUtevQ",
   "metadata": {
    "colab": {
     "base_uri": "https://localhost:8080/",
     "height": 243
    },
    "id": "XaYGm_PUtevQ",
    "outputId": "e7cce33b-0830-4177-b98d-1181daf628b7"
   },
   "outputs": [
    {
     "data": {
      "text/html": [
       "<div>\n",
       "<style scoped>\n",
       "    .dataframe tbody tr th:only-of-type {\n",
       "        vertical-align: middle;\n",
       "    }\n",
       "\n",
       "    .dataframe tbody tr th {\n",
       "        vertical-align: top;\n",
       "    }\n",
       "\n",
       "    .dataframe thead th {\n",
       "        text-align: right;\n",
       "    }\n",
       "</style>\n",
       "<table border=\"1\" class=\"dataframe\">\n",
       "  <thead>\n",
       "    <tr style=\"text-align: right;\">\n",
       "      <th></th>\n",
       "      <th>id</th>\n",
       "      <th>diagnosis</th>\n",
       "      <th>radius_mean</th>\n",
       "      <th>texture_mean</th>\n",
       "      <th>perimeter_mean</th>\n",
       "      <th>area_mean</th>\n",
       "      <th>smoothness_mean</th>\n",
       "      <th>compactness_mean</th>\n",
       "      <th>concavity_mean</th>\n",
       "      <th>concave points_mean</th>\n",
       "      <th>...</th>\n",
       "      <th>texture_worst</th>\n",
       "      <th>perimeter_worst</th>\n",
       "      <th>area_worst</th>\n",
       "      <th>smoothness_worst</th>\n",
       "      <th>compactness_worst</th>\n",
       "      <th>concavity_worst</th>\n",
       "      <th>concave points_worst</th>\n",
       "      <th>symmetry_worst</th>\n",
       "      <th>fractal_dimension_worst</th>\n",
       "      <th>Unnamed: 32</th>\n",
       "    </tr>\n",
       "  </thead>\n",
       "  <tbody>\n",
       "    <tr>\n",
       "      <th>0</th>\n",
       "      <td>842302</td>\n",
       "      <td>M</td>\n",
       "      <td>17.99</td>\n",
       "      <td>10.38</td>\n",
       "      <td>122.80</td>\n",
       "      <td>1001.0</td>\n",
       "      <td>0.11840</td>\n",
       "      <td>0.27760</td>\n",
       "      <td>0.3001</td>\n",
       "      <td>0.14710</td>\n",
       "      <td>...</td>\n",
       "      <td>17.33</td>\n",
       "      <td>184.60</td>\n",
       "      <td>2019.0</td>\n",
       "      <td>0.1622</td>\n",
       "      <td>0.6656</td>\n",
       "      <td>0.7119</td>\n",
       "      <td>0.2654</td>\n",
       "      <td>0.4601</td>\n",
       "      <td>0.11890</td>\n",
       "      <td>NaN</td>\n",
       "    </tr>\n",
       "    <tr>\n",
       "      <th>1</th>\n",
       "      <td>842517</td>\n",
       "      <td>M</td>\n",
       "      <td>20.57</td>\n",
       "      <td>17.77</td>\n",
       "      <td>132.90</td>\n",
       "      <td>1326.0</td>\n",
       "      <td>0.08474</td>\n",
       "      <td>0.07864</td>\n",
       "      <td>0.0869</td>\n",
       "      <td>0.07017</td>\n",
       "      <td>...</td>\n",
       "      <td>23.41</td>\n",
       "      <td>158.80</td>\n",
       "      <td>1956.0</td>\n",
       "      <td>0.1238</td>\n",
       "      <td>0.1866</td>\n",
       "      <td>0.2416</td>\n",
       "      <td>0.1860</td>\n",
       "      <td>0.2750</td>\n",
       "      <td>0.08902</td>\n",
       "      <td>NaN</td>\n",
       "    </tr>\n",
       "    <tr>\n",
       "      <th>2</th>\n",
       "      <td>84300903</td>\n",
       "      <td>M</td>\n",
       "      <td>19.69</td>\n",
       "      <td>21.25</td>\n",
       "      <td>130.00</td>\n",
       "      <td>1203.0</td>\n",
       "      <td>0.10960</td>\n",
       "      <td>0.15990</td>\n",
       "      <td>0.1974</td>\n",
       "      <td>0.12790</td>\n",
       "      <td>...</td>\n",
       "      <td>25.53</td>\n",
       "      <td>152.50</td>\n",
       "      <td>1709.0</td>\n",
       "      <td>0.1444</td>\n",
       "      <td>0.4245</td>\n",
       "      <td>0.4504</td>\n",
       "      <td>0.2430</td>\n",
       "      <td>0.3613</td>\n",
       "      <td>0.08758</td>\n",
       "      <td>NaN</td>\n",
       "    </tr>\n",
       "    <tr>\n",
       "      <th>3</th>\n",
       "      <td>84348301</td>\n",
       "      <td>M</td>\n",
       "      <td>11.42</td>\n",
       "      <td>20.38</td>\n",
       "      <td>77.58</td>\n",
       "      <td>386.1</td>\n",
       "      <td>0.14250</td>\n",
       "      <td>0.28390</td>\n",
       "      <td>0.2414</td>\n",
       "      <td>0.10520</td>\n",
       "      <td>...</td>\n",
       "      <td>26.50</td>\n",
       "      <td>98.87</td>\n",
       "      <td>567.7</td>\n",
       "      <td>0.2098</td>\n",
       "      <td>0.8663</td>\n",
       "      <td>0.6869</td>\n",
       "      <td>0.2575</td>\n",
       "      <td>0.6638</td>\n",
       "      <td>0.17300</td>\n",
       "      <td>NaN</td>\n",
       "    </tr>\n",
       "    <tr>\n",
       "      <th>4</th>\n",
       "      <td>84358402</td>\n",
       "      <td>M</td>\n",
       "      <td>20.29</td>\n",
       "      <td>14.34</td>\n",
       "      <td>135.10</td>\n",
       "      <td>1297.0</td>\n",
       "      <td>0.10030</td>\n",
       "      <td>0.13280</td>\n",
       "      <td>0.1980</td>\n",
       "      <td>0.10430</td>\n",
       "      <td>...</td>\n",
       "      <td>16.67</td>\n",
       "      <td>152.20</td>\n",
       "      <td>1575.0</td>\n",
       "      <td>0.1374</td>\n",
       "      <td>0.2050</td>\n",
       "      <td>0.4000</td>\n",
       "      <td>0.1625</td>\n",
       "      <td>0.2364</td>\n",
       "      <td>0.07678</td>\n",
       "      <td>NaN</td>\n",
       "    </tr>\n",
       "  </tbody>\n",
       "</table>\n",
       "<p>5 rows × 33 columns</p>\n",
       "</div>"
      ],
      "text/plain": [
       "         id diagnosis  radius_mean  texture_mean  perimeter_mean  area_mean  \\\n",
       "0    842302         M        17.99         10.38          122.80     1001.0   \n",
       "1    842517         M        20.57         17.77          132.90     1326.0   \n",
       "2  84300903         M        19.69         21.25          130.00     1203.0   \n",
       "3  84348301         M        11.42         20.38           77.58      386.1   \n",
       "4  84358402         M        20.29         14.34          135.10     1297.0   \n",
       "\n",
       "   smoothness_mean  compactness_mean  concavity_mean  concave points_mean  \\\n",
       "0          0.11840           0.27760          0.3001              0.14710   \n",
       "1          0.08474           0.07864          0.0869              0.07017   \n",
       "2          0.10960           0.15990          0.1974              0.12790   \n",
       "3          0.14250           0.28390          0.2414              0.10520   \n",
       "4          0.10030           0.13280          0.1980              0.10430   \n",
       "\n",
       "   ...  texture_worst  perimeter_worst  area_worst  smoothness_worst  \\\n",
       "0  ...          17.33           184.60      2019.0            0.1622   \n",
       "1  ...          23.41           158.80      1956.0            0.1238   \n",
       "2  ...          25.53           152.50      1709.0            0.1444   \n",
       "3  ...          26.50            98.87       567.7            0.2098   \n",
       "4  ...          16.67           152.20      1575.0            0.1374   \n",
       "\n",
       "   compactness_worst  concavity_worst  concave points_worst  symmetry_worst  \\\n",
       "0             0.6656           0.7119                0.2654          0.4601   \n",
       "1             0.1866           0.2416                0.1860          0.2750   \n",
       "2             0.4245           0.4504                0.2430          0.3613   \n",
       "3             0.8663           0.6869                0.2575          0.6638   \n",
       "4             0.2050           0.4000                0.1625          0.2364   \n",
       "\n",
       "   fractal_dimension_worst  Unnamed: 32  \n",
       "0                  0.11890          NaN  \n",
       "1                  0.08902          NaN  \n",
       "2                  0.08758          NaN  \n",
       "3                  0.17300          NaN  \n",
       "4                  0.07678          NaN  \n",
       "\n",
       "[5 rows x 33 columns]"
      ]
     },
     "execution_count": 5,
     "metadata": {},
     "output_type": "execute_result"
    }
   ],
   "source": [
    "df.head()"
   ]
  },
  {
   "cell_type": "code",
   "execution_count": 6,
   "id": "-G9tcrOYteyK",
   "metadata": {
    "colab": {
     "base_uri": "https://localhost:8080/",
     "height": 243
    },
    "id": "-G9tcrOYteyK",
    "outputId": "7e5189ce-8235-495f-e8d7-8dc59284c91c"
   },
   "outputs": [
    {
     "data": {
      "text/html": [
       "<div>\n",
       "<style scoped>\n",
       "    .dataframe tbody tr th:only-of-type {\n",
       "        vertical-align: middle;\n",
       "    }\n",
       "\n",
       "    .dataframe tbody tr th {\n",
       "        vertical-align: top;\n",
       "    }\n",
       "\n",
       "    .dataframe thead th {\n",
       "        text-align: right;\n",
       "    }\n",
       "</style>\n",
       "<table border=\"1\" class=\"dataframe\">\n",
       "  <thead>\n",
       "    <tr style=\"text-align: right;\">\n",
       "      <th></th>\n",
       "      <th>id</th>\n",
       "      <th>diagnosis</th>\n",
       "      <th>radius_mean</th>\n",
       "      <th>texture_mean</th>\n",
       "      <th>perimeter_mean</th>\n",
       "      <th>area_mean</th>\n",
       "      <th>smoothness_mean</th>\n",
       "      <th>compactness_mean</th>\n",
       "      <th>concavity_mean</th>\n",
       "      <th>concave points_mean</th>\n",
       "      <th>...</th>\n",
       "      <th>texture_worst</th>\n",
       "      <th>perimeter_worst</th>\n",
       "      <th>area_worst</th>\n",
       "      <th>smoothness_worst</th>\n",
       "      <th>compactness_worst</th>\n",
       "      <th>concavity_worst</th>\n",
       "      <th>concave points_worst</th>\n",
       "      <th>symmetry_worst</th>\n",
       "      <th>fractal_dimension_worst</th>\n",
       "      <th>Unnamed: 32</th>\n",
       "    </tr>\n",
       "  </thead>\n",
       "  <tbody>\n",
       "    <tr>\n",
       "      <th>564</th>\n",
       "      <td>926424</td>\n",
       "      <td>M</td>\n",
       "      <td>21.56</td>\n",
       "      <td>22.39</td>\n",
       "      <td>142.00</td>\n",
       "      <td>1479.0</td>\n",
       "      <td>0.11100</td>\n",
       "      <td>0.11590</td>\n",
       "      <td>0.24390</td>\n",
       "      <td>0.13890</td>\n",
       "      <td>...</td>\n",
       "      <td>26.40</td>\n",
       "      <td>166.10</td>\n",
       "      <td>2027.0</td>\n",
       "      <td>0.14100</td>\n",
       "      <td>0.21130</td>\n",
       "      <td>0.4107</td>\n",
       "      <td>0.2216</td>\n",
       "      <td>0.2060</td>\n",
       "      <td>0.07115</td>\n",
       "      <td>NaN</td>\n",
       "    </tr>\n",
       "    <tr>\n",
       "      <th>565</th>\n",
       "      <td>926682</td>\n",
       "      <td>M</td>\n",
       "      <td>20.13</td>\n",
       "      <td>28.25</td>\n",
       "      <td>131.20</td>\n",
       "      <td>1261.0</td>\n",
       "      <td>0.09780</td>\n",
       "      <td>0.10340</td>\n",
       "      <td>0.14400</td>\n",
       "      <td>0.09791</td>\n",
       "      <td>...</td>\n",
       "      <td>38.25</td>\n",
       "      <td>155.00</td>\n",
       "      <td>1731.0</td>\n",
       "      <td>0.11660</td>\n",
       "      <td>0.19220</td>\n",
       "      <td>0.3215</td>\n",
       "      <td>0.1628</td>\n",
       "      <td>0.2572</td>\n",
       "      <td>0.06637</td>\n",
       "      <td>NaN</td>\n",
       "    </tr>\n",
       "    <tr>\n",
       "      <th>566</th>\n",
       "      <td>926954</td>\n",
       "      <td>M</td>\n",
       "      <td>16.60</td>\n",
       "      <td>28.08</td>\n",
       "      <td>108.30</td>\n",
       "      <td>858.1</td>\n",
       "      <td>0.08455</td>\n",
       "      <td>0.10230</td>\n",
       "      <td>0.09251</td>\n",
       "      <td>0.05302</td>\n",
       "      <td>...</td>\n",
       "      <td>34.12</td>\n",
       "      <td>126.70</td>\n",
       "      <td>1124.0</td>\n",
       "      <td>0.11390</td>\n",
       "      <td>0.30940</td>\n",
       "      <td>0.3403</td>\n",
       "      <td>0.1418</td>\n",
       "      <td>0.2218</td>\n",
       "      <td>0.07820</td>\n",
       "      <td>NaN</td>\n",
       "    </tr>\n",
       "    <tr>\n",
       "      <th>567</th>\n",
       "      <td>927241</td>\n",
       "      <td>M</td>\n",
       "      <td>20.60</td>\n",
       "      <td>29.33</td>\n",
       "      <td>140.10</td>\n",
       "      <td>1265.0</td>\n",
       "      <td>0.11780</td>\n",
       "      <td>0.27700</td>\n",
       "      <td>0.35140</td>\n",
       "      <td>0.15200</td>\n",
       "      <td>...</td>\n",
       "      <td>39.42</td>\n",
       "      <td>184.60</td>\n",
       "      <td>1821.0</td>\n",
       "      <td>0.16500</td>\n",
       "      <td>0.86810</td>\n",
       "      <td>0.9387</td>\n",
       "      <td>0.2650</td>\n",
       "      <td>0.4087</td>\n",
       "      <td>0.12400</td>\n",
       "      <td>NaN</td>\n",
       "    </tr>\n",
       "    <tr>\n",
       "      <th>568</th>\n",
       "      <td>92751</td>\n",
       "      <td>B</td>\n",
       "      <td>7.76</td>\n",
       "      <td>24.54</td>\n",
       "      <td>47.92</td>\n",
       "      <td>181.0</td>\n",
       "      <td>0.05263</td>\n",
       "      <td>0.04362</td>\n",
       "      <td>0.00000</td>\n",
       "      <td>0.00000</td>\n",
       "      <td>...</td>\n",
       "      <td>30.37</td>\n",
       "      <td>59.16</td>\n",
       "      <td>268.6</td>\n",
       "      <td>0.08996</td>\n",
       "      <td>0.06444</td>\n",
       "      <td>0.0000</td>\n",
       "      <td>0.0000</td>\n",
       "      <td>0.2871</td>\n",
       "      <td>0.07039</td>\n",
       "      <td>NaN</td>\n",
       "    </tr>\n",
       "  </tbody>\n",
       "</table>\n",
       "<p>5 rows × 33 columns</p>\n",
       "</div>"
      ],
      "text/plain": [
       "         id diagnosis  radius_mean  texture_mean  perimeter_mean  area_mean  \\\n",
       "564  926424         M        21.56         22.39          142.00     1479.0   \n",
       "565  926682         M        20.13         28.25          131.20     1261.0   \n",
       "566  926954         M        16.60         28.08          108.30      858.1   \n",
       "567  927241         M        20.60         29.33          140.10     1265.0   \n",
       "568   92751         B         7.76         24.54           47.92      181.0   \n",
       "\n",
       "     smoothness_mean  compactness_mean  concavity_mean  concave points_mean  \\\n",
       "564          0.11100           0.11590         0.24390              0.13890   \n",
       "565          0.09780           0.10340         0.14400              0.09791   \n",
       "566          0.08455           0.10230         0.09251              0.05302   \n",
       "567          0.11780           0.27700         0.35140              0.15200   \n",
       "568          0.05263           0.04362         0.00000              0.00000   \n",
       "\n",
       "     ...  texture_worst  perimeter_worst  area_worst  smoothness_worst  \\\n",
       "564  ...          26.40           166.10      2027.0           0.14100   \n",
       "565  ...          38.25           155.00      1731.0           0.11660   \n",
       "566  ...          34.12           126.70      1124.0           0.11390   \n",
       "567  ...          39.42           184.60      1821.0           0.16500   \n",
       "568  ...          30.37            59.16       268.6           0.08996   \n",
       "\n",
       "     compactness_worst  concavity_worst  concave points_worst  symmetry_worst  \\\n",
       "564            0.21130           0.4107                0.2216          0.2060   \n",
       "565            0.19220           0.3215                0.1628          0.2572   \n",
       "566            0.30940           0.3403                0.1418          0.2218   \n",
       "567            0.86810           0.9387                0.2650          0.4087   \n",
       "568            0.06444           0.0000                0.0000          0.2871   \n",
       "\n",
       "     fractal_dimension_worst  Unnamed: 32  \n",
       "564                  0.07115          NaN  \n",
       "565                  0.06637          NaN  \n",
       "566                  0.07820          NaN  \n",
       "567                  0.12400          NaN  \n",
       "568                  0.07039          NaN  \n",
       "\n",
       "[5 rows x 33 columns]"
      ]
     },
     "execution_count": 6,
     "metadata": {},
     "output_type": "execute_result"
    }
   ],
   "source": [
    "df.tail()"
   ]
  },
  {
   "cell_type": "code",
   "execution_count": 7,
   "id": "keRVpMsfuS5h",
   "metadata": {
    "id": "keRVpMsfuS5h"
   },
   "outputs": [],
   "source": [
    "df.drop('Unnamed: 32', axis = 1, inplace = True)\n",
    "df.drop('id', axis = 1, inplace = True)"
   ]
  },
  {
   "cell_type": "code",
   "execution_count": 8,
   "id": "xdEzrx05te30",
   "metadata": {
    "colab": {
     "base_uri": "https://localhost:8080/"
    },
    "id": "xdEzrx05te30",
    "outputId": "41f0b7c3-30d9-4e29-820e-f9771824debe"
   },
   "outputs": [
    {
     "name": "stdout",
     "output_type": "stream",
     "text": [
      "<class 'pandas.core.frame.DataFrame'>\n",
      "RangeIndex: 569 entries, 0 to 568\n",
      "Data columns (total 31 columns):\n",
      " #   Column                   Non-Null Count  Dtype  \n",
      "---  ------                   --------------  -----  \n",
      " 0   diagnosis                569 non-null    object \n",
      " 1   radius_mean              569 non-null    float64\n",
      " 2   texture_mean             569 non-null    float64\n",
      " 3   perimeter_mean           569 non-null    float64\n",
      " 4   area_mean                569 non-null    float64\n",
      " 5   smoothness_mean          569 non-null    float64\n",
      " 6   compactness_mean         569 non-null    float64\n",
      " 7   concavity_mean           569 non-null    float64\n",
      " 8   concave points_mean      569 non-null    float64\n",
      " 9   symmetry_mean            569 non-null    float64\n",
      " 10  fractal_dimension_mean   569 non-null    float64\n",
      " 11  radius_se                569 non-null    float64\n",
      " 12  texture_se               569 non-null    float64\n",
      " 13  perimeter_se             569 non-null    float64\n",
      " 14  area_se                  569 non-null    float64\n",
      " 15  smoothness_se            569 non-null    float64\n",
      " 16  compactness_se           569 non-null    float64\n",
      " 17  concavity_se             569 non-null    float64\n",
      " 18  concave points_se        569 non-null    float64\n",
      " 19  symmetry_se              569 non-null    float64\n",
      " 20  fractal_dimension_se     569 non-null    float64\n",
      " 21  radius_worst             569 non-null    float64\n",
      " 22  texture_worst            569 non-null    float64\n",
      " 23  perimeter_worst          569 non-null    float64\n",
      " 24  area_worst               569 non-null    float64\n",
      " 25  smoothness_worst         569 non-null    float64\n",
      " 26  compactness_worst        569 non-null    float64\n",
      " 27  concavity_worst          569 non-null    float64\n",
      " 28  concave points_worst     569 non-null    float64\n",
      " 29  symmetry_worst           569 non-null    float64\n",
      " 30  fractal_dimension_worst  569 non-null    float64\n",
      "dtypes: float64(30), object(1)\n",
      "memory usage: 137.9+ KB\n"
     ]
    }
   ],
   "source": [
    "df.info()"
   ]
  },
  {
   "cell_type": "code",
   "execution_count": 9,
   "id": "hNWrk6LKuikC",
   "metadata": {
    "colab": {
     "base_uri": "https://localhost:8080/",
     "height": 243
    },
    "id": "hNWrk6LKuikC",
    "outputId": "6a91d960-4a69-4623-80ba-bfee5adf1080"
   },
   "outputs": [
    {
     "data": {
      "text/html": [
       "<div>\n",
       "<style scoped>\n",
       "    .dataframe tbody tr th:only-of-type {\n",
       "        vertical-align: middle;\n",
       "    }\n",
       "\n",
       "    .dataframe tbody tr th {\n",
       "        vertical-align: top;\n",
       "    }\n",
       "\n",
       "    .dataframe thead th {\n",
       "        text-align: right;\n",
       "    }\n",
       "</style>\n",
       "<table border=\"1\" class=\"dataframe\">\n",
       "  <thead>\n",
       "    <tr style=\"text-align: right;\">\n",
       "      <th></th>\n",
       "      <th>diagnosis</th>\n",
       "      <th>radius_mean</th>\n",
       "      <th>texture_mean</th>\n",
       "      <th>perimeter_mean</th>\n",
       "      <th>area_mean</th>\n",
       "      <th>smoothness_mean</th>\n",
       "      <th>compactness_mean</th>\n",
       "      <th>concavity_mean</th>\n",
       "      <th>concave points_mean</th>\n",
       "      <th>symmetry_mean</th>\n",
       "      <th>...</th>\n",
       "      <th>radius_worst</th>\n",
       "      <th>texture_worst</th>\n",
       "      <th>perimeter_worst</th>\n",
       "      <th>area_worst</th>\n",
       "      <th>smoothness_worst</th>\n",
       "      <th>compactness_worst</th>\n",
       "      <th>concavity_worst</th>\n",
       "      <th>concave points_worst</th>\n",
       "      <th>symmetry_worst</th>\n",
       "      <th>fractal_dimension_worst</th>\n",
       "    </tr>\n",
       "  </thead>\n",
       "  <tbody>\n",
       "    <tr>\n",
       "      <th>528</th>\n",
       "      <td>B</td>\n",
       "      <td>13.94</td>\n",
       "      <td>13.17</td>\n",
       "      <td>90.31</td>\n",
       "      <td>594.2</td>\n",
       "      <td>0.12480</td>\n",
       "      <td>0.09755</td>\n",
       "      <td>0.10100</td>\n",
       "      <td>0.06615</td>\n",
       "      <td>0.1976</td>\n",
       "      <td>...</td>\n",
       "      <td>14.62</td>\n",
       "      <td>15.38</td>\n",
       "      <td>94.52</td>\n",
       "      <td>653.3</td>\n",
       "      <td>0.1394</td>\n",
       "      <td>0.1364</td>\n",
       "      <td>0.1559</td>\n",
       "      <td>0.1015</td>\n",
       "      <td>0.2160</td>\n",
       "      <td>0.07253</td>\n",
       "    </tr>\n",
       "    <tr>\n",
       "      <th>380</th>\n",
       "      <td>B</td>\n",
       "      <td>11.27</td>\n",
       "      <td>12.96</td>\n",
       "      <td>73.16</td>\n",
       "      <td>386.3</td>\n",
       "      <td>0.12370</td>\n",
       "      <td>0.11110</td>\n",
       "      <td>0.07900</td>\n",
       "      <td>0.05550</td>\n",
       "      <td>0.2018</td>\n",
       "      <td>...</td>\n",
       "      <td>12.84</td>\n",
       "      <td>20.53</td>\n",
       "      <td>84.93</td>\n",
       "      <td>476.1</td>\n",
       "      <td>0.1610</td>\n",
       "      <td>0.2429</td>\n",
       "      <td>0.2247</td>\n",
       "      <td>0.1318</td>\n",
       "      <td>0.3343</td>\n",
       "      <td>0.09215</td>\n",
       "    </tr>\n",
       "    <tr>\n",
       "      <th>219</th>\n",
       "      <td>M</td>\n",
       "      <td>19.53</td>\n",
       "      <td>32.47</td>\n",
       "      <td>128.00</td>\n",
       "      <td>1223.0</td>\n",
       "      <td>0.08420</td>\n",
       "      <td>0.11300</td>\n",
       "      <td>0.11450</td>\n",
       "      <td>0.06637</td>\n",
       "      <td>0.1428</td>\n",
       "      <td>...</td>\n",
       "      <td>27.90</td>\n",
       "      <td>45.41</td>\n",
       "      <td>180.20</td>\n",
       "      <td>2477.0</td>\n",
       "      <td>0.1408</td>\n",
       "      <td>0.4097</td>\n",
       "      <td>0.3995</td>\n",
       "      <td>0.1625</td>\n",
       "      <td>0.2713</td>\n",
       "      <td>0.07568</td>\n",
       "    </tr>\n",
       "    <tr>\n",
       "      <th>336</th>\n",
       "      <td>B</td>\n",
       "      <td>12.99</td>\n",
       "      <td>14.23</td>\n",
       "      <td>84.08</td>\n",
       "      <td>514.3</td>\n",
       "      <td>0.09462</td>\n",
       "      <td>0.09965</td>\n",
       "      <td>0.03738</td>\n",
       "      <td>0.02098</td>\n",
       "      <td>0.1652</td>\n",
       "      <td>...</td>\n",
       "      <td>13.72</td>\n",
       "      <td>16.91</td>\n",
       "      <td>87.38</td>\n",
       "      <td>576.0</td>\n",
       "      <td>0.1142</td>\n",
       "      <td>0.1975</td>\n",
       "      <td>0.1450</td>\n",
       "      <td>0.0585</td>\n",
       "      <td>0.2432</td>\n",
       "      <td>0.10090</td>\n",
       "    </tr>\n",
       "    <tr>\n",
       "      <th>128</th>\n",
       "      <td>B</td>\n",
       "      <td>15.10</td>\n",
       "      <td>16.39</td>\n",
       "      <td>99.58</td>\n",
       "      <td>674.5</td>\n",
       "      <td>0.11500</td>\n",
       "      <td>0.18070</td>\n",
       "      <td>0.11380</td>\n",
       "      <td>0.08534</td>\n",
       "      <td>0.2001</td>\n",
       "      <td>...</td>\n",
       "      <td>16.11</td>\n",
       "      <td>18.33</td>\n",
       "      <td>105.90</td>\n",
       "      <td>762.6</td>\n",
       "      <td>0.1386</td>\n",
       "      <td>0.2883</td>\n",
       "      <td>0.1960</td>\n",
       "      <td>0.1423</td>\n",
       "      <td>0.2590</td>\n",
       "      <td>0.07779</td>\n",
       "    </tr>\n",
       "  </tbody>\n",
       "</table>\n",
       "<p>5 rows × 31 columns</p>\n",
       "</div>"
      ],
      "text/plain": [
       "    diagnosis  radius_mean  texture_mean  perimeter_mean  area_mean  \\\n",
       "528         B        13.94         13.17           90.31      594.2   \n",
       "380         B        11.27         12.96           73.16      386.3   \n",
       "219         M        19.53         32.47          128.00     1223.0   \n",
       "336         B        12.99         14.23           84.08      514.3   \n",
       "128         B        15.10         16.39           99.58      674.5   \n",
       "\n",
       "     smoothness_mean  compactness_mean  concavity_mean  concave points_mean  \\\n",
       "528          0.12480           0.09755         0.10100              0.06615   \n",
       "380          0.12370           0.11110         0.07900              0.05550   \n",
       "219          0.08420           0.11300         0.11450              0.06637   \n",
       "336          0.09462           0.09965         0.03738              0.02098   \n",
       "128          0.11500           0.18070         0.11380              0.08534   \n",
       "\n",
       "     symmetry_mean  ...  radius_worst  texture_worst  perimeter_worst  \\\n",
       "528         0.1976  ...         14.62          15.38            94.52   \n",
       "380         0.2018  ...         12.84          20.53            84.93   \n",
       "219         0.1428  ...         27.90          45.41           180.20   \n",
       "336         0.1652  ...         13.72          16.91            87.38   \n",
       "128         0.2001  ...         16.11          18.33           105.90   \n",
       "\n",
       "     area_worst  smoothness_worst  compactness_worst  concavity_worst  \\\n",
       "528       653.3            0.1394             0.1364           0.1559   \n",
       "380       476.1            0.1610             0.2429           0.2247   \n",
       "219      2477.0            0.1408             0.4097           0.3995   \n",
       "336       576.0            0.1142             0.1975           0.1450   \n",
       "128       762.6            0.1386             0.2883           0.1960   \n",
       "\n",
       "     concave points_worst  symmetry_worst  fractal_dimension_worst  \n",
       "528                0.1015          0.2160                  0.07253  \n",
       "380                0.1318          0.3343                  0.09215  \n",
       "219                0.1625          0.2713                  0.07568  \n",
       "336                0.0585          0.2432                  0.10090  \n",
       "128                0.1423          0.2590                  0.07779  \n",
       "\n",
       "[5 rows x 31 columns]"
      ]
     },
     "execution_count": 9,
     "metadata": {},
     "output_type": "execute_result"
    }
   ],
   "source": [
    "df.sample(5)"
   ]
  },
  {
   "cell_type": "code",
   "execution_count": 10,
   "id": "-xUHhXAUte6j",
   "metadata": {
    "colab": {
     "base_uri": "https://localhost:8080/",
     "height": 337
    },
    "id": "-xUHhXAUte6j",
    "outputId": "f198e5aa-0dde-4496-ccc4-90fbc06ff3a4"
   },
   "outputs": [
    {
     "data": {
      "text/html": [
       "<div>\n",
       "<style scoped>\n",
       "    .dataframe tbody tr th:only-of-type {\n",
       "        vertical-align: middle;\n",
       "    }\n",
       "\n",
       "    .dataframe tbody tr th {\n",
       "        vertical-align: top;\n",
       "    }\n",
       "\n",
       "    .dataframe thead th {\n",
       "        text-align: right;\n",
       "    }\n",
       "</style>\n",
       "<table border=\"1\" class=\"dataframe\">\n",
       "  <thead>\n",
       "    <tr style=\"text-align: right;\">\n",
       "      <th></th>\n",
       "      <th>radius_mean</th>\n",
       "      <th>texture_mean</th>\n",
       "      <th>perimeter_mean</th>\n",
       "      <th>area_mean</th>\n",
       "      <th>smoothness_mean</th>\n",
       "      <th>compactness_mean</th>\n",
       "      <th>concavity_mean</th>\n",
       "      <th>concave points_mean</th>\n",
       "      <th>symmetry_mean</th>\n",
       "      <th>fractal_dimension_mean</th>\n",
       "      <th>...</th>\n",
       "      <th>radius_worst</th>\n",
       "      <th>texture_worst</th>\n",
       "      <th>perimeter_worst</th>\n",
       "      <th>area_worst</th>\n",
       "      <th>smoothness_worst</th>\n",
       "      <th>compactness_worst</th>\n",
       "      <th>concavity_worst</th>\n",
       "      <th>concave points_worst</th>\n",
       "      <th>symmetry_worst</th>\n",
       "      <th>fractal_dimension_worst</th>\n",
       "    </tr>\n",
       "  </thead>\n",
       "  <tbody>\n",
       "    <tr>\n",
       "      <th>count</th>\n",
       "      <td>569.000000</td>\n",
       "      <td>569.000000</td>\n",
       "      <td>569.000000</td>\n",
       "      <td>569.000000</td>\n",
       "      <td>569.000000</td>\n",
       "      <td>569.000000</td>\n",
       "      <td>569.000000</td>\n",
       "      <td>569.000000</td>\n",
       "      <td>569.000000</td>\n",
       "      <td>569.000000</td>\n",
       "      <td>...</td>\n",
       "      <td>569.000000</td>\n",
       "      <td>569.000000</td>\n",
       "      <td>569.000000</td>\n",
       "      <td>569.000000</td>\n",
       "      <td>569.000000</td>\n",
       "      <td>569.000000</td>\n",
       "      <td>569.000000</td>\n",
       "      <td>569.000000</td>\n",
       "      <td>569.000000</td>\n",
       "      <td>569.000000</td>\n",
       "    </tr>\n",
       "    <tr>\n",
       "      <th>mean</th>\n",
       "      <td>14.127292</td>\n",
       "      <td>19.289649</td>\n",
       "      <td>91.969033</td>\n",
       "      <td>654.889104</td>\n",
       "      <td>0.096360</td>\n",
       "      <td>0.104341</td>\n",
       "      <td>0.088799</td>\n",
       "      <td>0.048919</td>\n",
       "      <td>0.181162</td>\n",
       "      <td>0.062798</td>\n",
       "      <td>...</td>\n",
       "      <td>16.269190</td>\n",
       "      <td>25.677223</td>\n",
       "      <td>107.261213</td>\n",
       "      <td>880.583128</td>\n",
       "      <td>0.132369</td>\n",
       "      <td>0.254265</td>\n",
       "      <td>0.272188</td>\n",
       "      <td>0.114606</td>\n",
       "      <td>0.290076</td>\n",
       "      <td>0.083946</td>\n",
       "    </tr>\n",
       "    <tr>\n",
       "      <th>std</th>\n",
       "      <td>3.524049</td>\n",
       "      <td>4.301036</td>\n",
       "      <td>24.298981</td>\n",
       "      <td>351.914129</td>\n",
       "      <td>0.014064</td>\n",
       "      <td>0.052813</td>\n",
       "      <td>0.079720</td>\n",
       "      <td>0.038803</td>\n",
       "      <td>0.027414</td>\n",
       "      <td>0.007060</td>\n",
       "      <td>...</td>\n",
       "      <td>4.833242</td>\n",
       "      <td>6.146258</td>\n",
       "      <td>33.602542</td>\n",
       "      <td>569.356993</td>\n",
       "      <td>0.022832</td>\n",
       "      <td>0.157336</td>\n",
       "      <td>0.208624</td>\n",
       "      <td>0.065732</td>\n",
       "      <td>0.061867</td>\n",
       "      <td>0.018061</td>\n",
       "    </tr>\n",
       "    <tr>\n",
       "      <th>min</th>\n",
       "      <td>6.981000</td>\n",
       "      <td>9.710000</td>\n",
       "      <td>43.790000</td>\n",
       "      <td>143.500000</td>\n",
       "      <td>0.052630</td>\n",
       "      <td>0.019380</td>\n",
       "      <td>0.000000</td>\n",
       "      <td>0.000000</td>\n",
       "      <td>0.106000</td>\n",
       "      <td>0.049960</td>\n",
       "      <td>...</td>\n",
       "      <td>7.930000</td>\n",
       "      <td>12.020000</td>\n",
       "      <td>50.410000</td>\n",
       "      <td>185.200000</td>\n",
       "      <td>0.071170</td>\n",
       "      <td>0.027290</td>\n",
       "      <td>0.000000</td>\n",
       "      <td>0.000000</td>\n",
       "      <td>0.156500</td>\n",
       "      <td>0.055040</td>\n",
       "    </tr>\n",
       "    <tr>\n",
       "      <th>25%</th>\n",
       "      <td>11.700000</td>\n",
       "      <td>16.170000</td>\n",
       "      <td>75.170000</td>\n",
       "      <td>420.300000</td>\n",
       "      <td>0.086370</td>\n",
       "      <td>0.064920</td>\n",
       "      <td>0.029560</td>\n",
       "      <td>0.020310</td>\n",
       "      <td>0.161900</td>\n",
       "      <td>0.057700</td>\n",
       "      <td>...</td>\n",
       "      <td>13.010000</td>\n",
       "      <td>21.080000</td>\n",
       "      <td>84.110000</td>\n",
       "      <td>515.300000</td>\n",
       "      <td>0.116600</td>\n",
       "      <td>0.147200</td>\n",
       "      <td>0.114500</td>\n",
       "      <td>0.064930</td>\n",
       "      <td>0.250400</td>\n",
       "      <td>0.071460</td>\n",
       "    </tr>\n",
       "    <tr>\n",
       "      <th>50%</th>\n",
       "      <td>13.370000</td>\n",
       "      <td>18.840000</td>\n",
       "      <td>86.240000</td>\n",
       "      <td>551.100000</td>\n",
       "      <td>0.095870</td>\n",
       "      <td>0.092630</td>\n",
       "      <td>0.061540</td>\n",
       "      <td>0.033500</td>\n",
       "      <td>0.179200</td>\n",
       "      <td>0.061540</td>\n",
       "      <td>...</td>\n",
       "      <td>14.970000</td>\n",
       "      <td>25.410000</td>\n",
       "      <td>97.660000</td>\n",
       "      <td>686.500000</td>\n",
       "      <td>0.131300</td>\n",
       "      <td>0.211900</td>\n",
       "      <td>0.226700</td>\n",
       "      <td>0.099930</td>\n",
       "      <td>0.282200</td>\n",
       "      <td>0.080040</td>\n",
       "    </tr>\n",
       "    <tr>\n",
       "      <th>75%</th>\n",
       "      <td>15.780000</td>\n",
       "      <td>21.800000</td>\n",
       "      <td>104.100000</td>\n",
       "      <td>782.700000</td>\n",
       "      <td>0.105300</td>\n",
       "      <td>0.130400</td>\n",
       "      <td>0.130700</td>\n",
       "      <td>0.074000</td>\n",
       "      <td>0.195700</td>\n",
       "      <td>0.066120</td>\n",
       "      <td>...</td>\n",
       "      <td>18.790000</td>\n",
       "      <td>29.720000</td>\n",
       "      <td>125.400000</td>\n",
       "      <td>1084.000000</td>\n",
       "      <td>0.146000</td>\n",
       "      <td>0.339100</td>\n",
       "      <td>0.382900</td>\n",
       "      <td>0.161400</td>\n",
       "      <td>0.317900</td>\n",
       "      <td>0.092080</td>\n",
       "    </tr>\n",
       "    <tr>\n",
       "      <th>max</th>\n",
       "      <td>28.110000</td>\n",
       "      <td>39.280000</td>\n",
       "      <td>188.500000</td>\n",
       "      <td>2501.000000</td>\n",
       "      <td>0.163400</td>\n",
       "      <td>0.345400</td>\n",
       "      <td>0.426800</td>\n",
       "      <td>0.201200</td>\n",
       "      <td>0.304000</td>\n",
       "      <td>0.097440</td>\n",
       "      <td>...</td>\n",
       "      <td>36.040000</td>\n",
       "      <td>49.540000</td>\n",
       "      <td>251.200000</td>\n",
       "      <td>4254.000000</td>\n",
       "      <td>0.222600</td>\n",
       "      <td>1.058000</td>\n",
       "      <td>1.252000</td>\n",
       "      <td>0.291000</td>\n",
       "      <td>0.663800</td>\n",
       "      <td>0.207500</td>\n",
       "    </tr>\n",
       "  </tbody>\n",
       "</table>\n",
       "<p>8 rows × 30 columns</p>\n",
       "</div>"
      ],
      "text/plain": [
       "       radius_mean  texture_mean  perimeter_mean    area_mean  \\\n",
       "count   569.000000    569.000000      569.000000   569.000000   \n",
       "mean     14.127292     19.289649       91.969033   654.889104   \n",
       "std       3.524049      4.301036       24.298981   351.914129   \n",
       "min       6.981000      9.710000       43.790000   143.500000   \n",
       "25%      11.700000     16.170000       75.170000   420.300000   \n",
       "50%      13.370000     18.840000       86.240000   551.100000   \n",
       "75%      15.780000     21.800000      104.100000   782.700000   \n",
       "max      28.110000     39.280000      188.500000  2501.000000   \n",
       "\n",
       "       smoothness_mean  compactness_mean  concavity_mean  concave points_mean  \\\n",
       "count       569.000000        569.000000      569.000000           569.000000   \n",
       "mean          0.096360          0.104341        0.088799             0.048919   \n",
       "std           0.014064          0.052813        0.079720             0.038803   \n",
       "min           0.052630          0.019380        0.000000             0.000000   \n",
       "25%           0.086370          0.064920        0.029560             0.020310   \n",
       "50%           0.095870          0.092630        0.061540             0.033500   \n",
       "75%           0.105300          0.130400        0.130700             0.074000   \n",
       "max           0.163400          0.345400        0.426800             0.201200   \n",
       "\n",
       "       symmetry_mean  fractal_dimension_mean  ...  radius_worst  \\\n",
       "count     569.000000              569.000000  ...    569.000000   \n",
       "mean        0.181162                0.062798  ...     16.269190   \n",
       "std         0.027414                0.007060  ...      4.833242   \n",
       "min         0.106000                0.049960  ...      7.930000   \n",
       "25%         0.161900                0.057700  ...     13.010000   \n",
       "50%         0.179200                0.061540  ...     14.970000   \n",
       "75%         0.195700                0.066120  ...     18.790000   \n",
       "max         0.304000                0.097440  ...     36.040000   \n",
       "\n",
       "       texture_worst  perimeter_worst   area_worst  smoothness_worst  \\\n",
       "count     569.000000       569.000000   569.000000        569.000000   \n",
       "mean       25.677223       107.261213   880.583128          0.132369   \n",
       "std         6.146258        33.602542   569.356993          0.022832   \n",
       "min        12.020000        50.410000   185.200000          0.071170   \n",
       "25%        21.080000        84.110000   515.300000          0.116600   \n",
       "50%        25.410000        97.660000   686.500000          0.131300   \n",
       "75%        29.720000       125.400000  1084.000000          0.146000   \n",
       "max        49.540000       251.200000  4254.000000          0.222600   \n",
       "\n",
       "       compactness_worst  concavity_worst  concave points_worst  \\\n",
       "count         569.000000       569.000000            569.000000   \n",
       "mean            0.254265         0.272188              0.114606   \n",
       "std             0.157336         0.208624              0.065732   \n",
       "min             0.027290         0.000000              0.000000   \n",
       "25%             0.147200         0.114500              0.064930   \n",
       "50%             0.211900         0.226700              0.099930   \n",
       "75%             0.339100         0.382900              0.161400   \n",
       "max             1.058000         1.252000              0.291000   \n",
       "\n",
       "       symmetry_worst  fractal_dimension_worst  \n",
       "count      569.000000               569.000000  \n",
       "mean         0.290076                 0.083946  \n",
       "std          0.061867                 0.018061  \n",
       "min          0.156500                 0.055040  \n",
       "25%          0.250400                 0.071460  \n",
       "50%          0.282200                 0.080040  \n",
       "75%          0.317900                 0.092080  \n",
       "max          0.663800                 0.207500  \n",
       "\n",
       "[8 rows x 30 columns]"
      ]
     },
     "execution_count": 10,
     "metadata": {},
     "output_type": "execute_result"
    }
   ],
   "source": [
    "df.describe()"
   ]
  },
  {
   "cell_type": "code",
   "execution_count": 11,
   "id": "CHjL9cPfte9R",
   "metadata": {
    "colab": {
     "base_uri": "https://localhost:8080/"
    },
    "id": "CHjL9cPfte9R",
    "outputId": "b7e9c705-9bbd-4ae3-e757-3dcc97444928"
   },
   "outputs": [
    {
     "data": {
      "text/plain": [
       "diagnosis                  0\n",
       "radius_mean                0\n",
       "texture_mean               0\n",
       "perimeter_mean             0\n",
       "area_mean                  0\n",
       "smoothness_mean            0\n",
       "compactness_mean           0\n",
       "concavity_mean             0\n",
       "concave points_mean        0\n",
       "symmetry_mean              0\n",
       "fractal_dimension_mean     0\n",
       "radius_se                  0\n",
       "texture_se                 0\n",
       "perimeter_se               0\n",
       "area_se                    0\n",
       "smoothness_se              0\n",
       "compactness_se             0\n",
       "concavity_se               0\n",
       "concave points_se          0\n",
       "symmetry_se                0\n",
       "fractal_dimension_se       0\n",
       "radius_worst               0\n",
       "texture_worst              0\n",
       "perimeter_worst            0\n",
       "area_worst                 0\n",
       "smoothness_worst           0\n",
       "compactness_worst          0\n",
       "concavity_worst            0\n",
       "concave points_worst       0\n",
       "symmetry_worst             0\n",
       "fractal_dimension_worst    0\n",
       "dtype: int64"
      ]
     },
     "execution_count": 11,
     "metadata": {},
     "output_type": "execute_result"
    }
   ],
   "source": [
    "df.isnull().sum()"
   ]
  },
  {
   "cell_type": "markdown",
   "id": "T2BT924R8RFp",
   "metadata": {
    "id": "T2BT924R8RFp"
   },
   "source": [
    "## Exploratory Data Analysis"
   ]
  },
  {
   "cell_type": "markdown",
   "id": "b863b61e",
   "metadata": {
    "colab": {
     "base_uri": "https://localhost:8080/"
    },
    "id": "DTG8h-M18fpO",
    "outputId": "afb8bc70-91f7-489e-ffbb-3c692c6ea7fd"
   },
   "source": [
    "$ ! pip install https://github.com/pandas-profiling/pandas-profiling/archive/master.zip "
   ]
  },
  {
   "cell_type": "markdown",
   "id": "0d32ca4b",
   "metadata": {
    "id": "rFpRI9E-8fwl"
   },
   "source": [
    "$ from pandas_profiling import ProfileReport"
   ]
  },
  {
   "cell_type": "markdown",
   "id": "6f60e4ce",
   "metadata": {
    "id": "Y-mEwraN8f5q"
   },
   "source": [
    "$ profile = ProfileReport(df)"
   ]
  },
  {
   "cell_type": "markdown",
   "id": "ebe8a913",
   "metadata": {
    "colab": {
     "base_uri": "https://localhost:8080/",
     "height": 113,
     "referenced_widgets": [
      "8c515944f74446e99d44c180335868ac",
      "0f16ecf0d4664fcebc34bfb12124ac73",
      "d2891a0299284081a85c6dcd31701f97",
      "6db46d6a8e4048cfbf4f724411558c14",
      "2b966da766f846e783f91d93c0152480",
      "4601fd9c000a43c5b41ac68280be0753",
      "6bad22d92d3d492ab0b6ca512e9351be",
      "6a350af2d7c14bfaac87177b8150e2d2",
      "d6d426dbc4c14acbafb279bf7e3e2799",
      "b8f609a72d634585925087a96c7694d2",
      "8b7f2c962ee741929f939c25fa4d395a",
      "5412b7740c6b49a1a3162edad738b739",
      "d820e227af2e405ea5fddfff62379922",
      "3c5d418663804b6d880820b3c1eea950",
      "b6379a95984349d0af61947eb82cc93b",
      "6fb352d912cc4902b65e38a01d5c54d1",
      "a383884f3f404c99857c2e7ea0d55847",
      "7ec339d715994530872754a368b74f7f",
      "b92e01675fbd4b1a9df204da1eaac29d",
      "50272d781a5b4f9b82955706dd55c5b1",
      "401d654ace834cbd960190b8149c0da1",
      "f99c2bc023a24c698a1c9d459ef3dcb0",
      "fb97206abcae4db598bf35902633ff57",
      "2df6a6d391ef41bcb4e88623194ec33e",
      "f07ab87c4b7646729ccbef5044e2b234",
      "26fc0a428f444d768ec75a55f3eec6b9",
      "3fe45ceaaf42439c8cd8c82ae0466132",
      "586fc4648f3a4971b6b3784b7e3be9a7",
      "e00c8869b5f2426881f216017e9fcd4a",
      "0ea72eb154f54e1fb8da6c5203fe606c",
      "062408b08112498e80cea976ce57f9df",
      "f32984e9e2e1474c97b3fc25acfacd03",
      "4bc4e7b42ce34188bb6d4bdd2eb9d349"
     ]
    },
    "id": "oQu2v60x8gCP",
    "outputId": "ed97ad40-b137-49d6-99d6-2ef924a9dafd"
   },
   "source": [
    "$ profile.to_notebook_iframe()"
   ]
  },
  {
   "cell_type": "markdown",
   "id": "93a3d929",
   "metadata": {
    "id": "ZdV3RbhV8gJr"
   },
   "source": [
    "$ profile.to_file(output_file = \"19112014_NishitRathod_EDA_BreastCancer.html\")"
   ]
  },
  {
   "cell_type": "markdown",
   "id": "LETEFXLyeBeB",
   "metadata": {
    "id": "LETEFXLyeBeB"
   },
   "source": [
    "## Implementing Classification Models"
   ]
  },
  {
   "cell_type": "markdown",
   "id": "Smr125yBpDsj",
   "metadata": {
    "id": "Smr125yBpDsj"
   },
   "source": [
    "#### Biffurcating Classification Parameter from the Dataset."
   ]
  },
  {
   "cell_type": "code",
   "execution_count": 12,
   "id": "1slEWQkfntUs",
   "metadata": {
    "id": "1slEWQkfntUs"
   },
   "outputs": [],
   "source": [
    "Y = df['diagnosis']\n",
    "X = df.drop(['diagnosis'], axis=1)"
   ]
  },
  {
   "cell_type": "code",
   "execution_count": 13,
   "id": "eX9Y6D4JntRb",
   "metadata": {
    "colab": {
     "base_uri": "https://localhost:8080/",
     "height": 243
    },
    "id": "eX9Y6D4JntRb",
    "outputId": "93931428-ac7a-4af1-9f6a-d92aa4474fa7"
   },
   "outputs": [
    {
     "data": {
      "text/html": [
       "<div>\n",
       "<style scoped>\n",
       "    .dataframe tbody tr th:only-of-type {\n",
       "        vertical-align: middle;\n",
       "    }\n",
       "\n",
       "    .dataframe tbody tr th {\n",
       "        vertical-align: top;\n",
       "    }\n",
       "\n",
       "    .dataframe thead th {\n",
       "        text-align: right;\n",
       "    }\n",
       "</style>\n",
       "<table border=\"1\" class=\"dataframe\">\n",
       "  <thead>\n",
       "    <tr style=\"text-align: right;\">\n",
       "      <th></th>\n",
       "      <th>radius_mean</th>\n",
       "      <th>texture_mean</th>\n",
       "      <th>perimeter_mean</th>\n",
       "      <th>area_mean</th>\n",
       "      <th>smoothness_mean</th>\n",
       "      <th>compactness_mean</th>\n",
       "      <th>concavity_mean</th>\n",
       "      <th>concave points_mean</th>\n",
       "      <th>symmetry_mean</th>\n",
       "      <th>fractal_dimension_mean</th>\n",
       "      <th>...</th>\n",
       "      <th>radius_worst</th>\n",
       "      <th>texture_worst</th>\n",
       "      <th>perimeter_worst</th>\n",
       "      <th>area_worst</th>\n",
       "      <th>smoothness_worst</th>\n",
       "      <th>compactness_worst</th>\n",
       "      <th>concavity_worst</th>\n",
       "      <th>concave points_worst</th>\n",
       "      <th>symmetry_worst</th>\n",
       "      <th>fractal_dimension_worst</th>\n",
       "    </tr>\n",
       "  </thead>\n",
       "  <tbody>\n",
       "    <tr>\n",
       "      <th>32</th>\n",
       "      <td>17.02</td>\n",
       "      <td>23.98</td>\n",
       "      <td>112.80</td>\n",
       "      <td>899.3</td>\n",
       "      <td>0.11970</td>\n",
       "      <td>0.14960</td>\n",
       "      <td>0.241700</td>\n",
       "      <td>0.12030</td>\n",
       "      <td>0.2248</td>\n",
       "      <td>0.06382</td>\n",
       "      <td>...</td>\n",
       "      <td>20.88</td>\n",
       "      <td>32.09</td>\n",
       "      <td>136.10</td>\n",
       "      <td>1344.0</td>\n",
       "      <td>0.16340</td>\n",
       "      <td>0.3559</td>\n",
       "      <td>0.55880</td>\n",
       "      <td>0.18470</td>\n",
       "      <td>0.3530</td>\n",
       "      <td>0.08482</td>\n",
       "    </tr>\n",
       "    <tr>\n",
       "      <th>4</th>\n",
       "      <td>20.29</td>\n",
       "      <td>14.34</td>\n",
       "      <td>135.10</td>\n",
       "      <td>1297.0</td>\n",
       "      <td>0.10030</td>\n",
       "      <td>0.13280</td>\n",
       "      <td>0.198000</td>\n",
       "      <td>0.10430</td>\n",
       "      <td>0.1809</td>\n",
       "      <td>0.05883</td>\n",
       "      <td>...</td>\n",
       "      <td>22.54</td>\n",
       "      <td>16.67</td>\n",
       "      <td>152.20</td>\n",
       "      <td>1575.0</td>\n",
       "      <td>0.13740</td>\n",
       "      <td>0.2050</td>\n",
       "      <td>0.40000</td>\n",
       "      <td>0.16250</td>\n",
       "      <td>0.2364</td>\n",
       "      <td>0.07678</td>\n",
       "    </tr>\n",
       "    <tr>\n",
       "      <th>226</th>\n",
       "      <td>10.44</td>\n",
       "      <td>15.46</td>\n",
       "      <td>66.62</td>\n",
       "      <td>329.6</td>\n",
       "      <td>0.10530</td>\n",
       "      <td>0.07722</td>\n",
       "      <td>0.006643</td>\n",
       "      <td>0.01216</td>\n",
       "      <td>0.1788</td>\n",
       "      <td>0.06450</td>\n",
       "      <td>...</td>\n",
       "      <td>11.52</td>\n",
       "      <td>19.80</td>\n",
       "      <td>73.47</td>\n",
       "      <td>395.4</td>\n",
       "      <td>0.13410</td>\n",
       "      <td>0.1153</td>\n",
       "      <td>0.02639</td>\n",
       "      <td>0.04464</td>\n",
       "      <td>0.2615</td>\n",
       "      <td>0.08269</td>\n",
       "    </tr>\n",
       "    <tr>\n",
       "      <th>112</th>\n",
       "      <td>14.26</td>\n",
       "      <td>19.65</td>\n",
       "      <td>97.83</td>\n",
       "      <td>629.9</td>\n",
       "      <td>0.07837</td>\n",
       "      <td>0.22330</td>\n",
       "      <td>0.300300</td>\n",
       "      <td>0.07798</td>\n",
       "      <td>0.1704</td>\n",
       "      <td>0.07769</td>\n",
       "      <td>...</td>\n",
       "      <td>15.30</td>\n",
       "      <td>23.73</td>\n",
       "      <td>107.00</td>\n",
       "      <td>709.0</td>\n",
       "      <td>0.08949</td>\n",
       "      <td>0.4193</td>\n",
       "      <td>0.67830</td>\n",
       "      <td>0.15050</td>\n",
       "      <td>0.2398</td>\n",
       "      <td>0.10820</td>\n",
       "    </tr>\n",
       "    <tr>\n",
       "      <th>409</th>\n",
       "      <td>12.27</td>\n",
       "      <td>17.92</td>\n",
       "      <td>78.41</td>\n",
       "      <td>466.1</td>\n",
       "      <td>0.08685</td>\n",
       "      <td>0.06526</td>\n",
       "      <td>0.032110</td>\n",
       "      <td>0.02653</td>\n",
       "      <td>0.1966</td>\n",
       "      <td>0.05597</td>\n",
       "      <td>...</td>\n",
       "      <td>14.10</td>\n",
       "      <td>28.88</td>\n",
       "      <td>89.00</td>\n",
       "      <td>610.2</td>\n",
       "      <td>0.12400</td>\n",
       "      <td>0.1795</td>\n",
       "      <td>0.13770</td>\n",
       "      <td>0.09532</td>\n",
       "      <td>0.3455</td>\n",
       "      <td>0.06896</td>\n",
       "    </tr>\n",
       "  </tbody>\n",
       "</table>\n",
       "<p>5 rows × 30 columns</p>\n",
       "</div>"
      ],
      "text/plain": [
       "     radius_mean  texture_mean  perimeter_mean  area_mean  smoothness_mean  \\\n",
       "32         17.02         23.98          112.80      899.3          0.11970   \n",
       "4          20.29         14.34          135.10     1297.0          0.10030   \n",
       "226        10.44         15.46           66.62      329.6          0.10530   \n",
       "112        14.26         19.65           97.83      629.9          0.07837   \n",
       "409        12.27         17.92           78.41      466.1          0.08685   \n",
       "\n",
       "     compactness_mean  concavity_mean  concave points_mean  symmetry_mean  \\\n",
       "32            0.14960        0.241700              0.12030         0.2248   \n",
       "4             0.13280        0.198000              0.10430         0.1809   \n",
       "226           0.07722        0.006643              0.01216         0.1788   \n",
       "112           0.22330        0.300300              0.07798         0.1704   \n",
       "409           0.06526        0.032110              0.02653         0.1966   \n",
       "\n",
       "     fractal_dimension_mean  ...  radius_worst  texture_worst  \\\n",
       "32                  0.06382  ...         20.88          32.09   \n",
       "4                   0.05883  ...         22.54          16.67   \n",
       "226                 0.06450  ...         11.52          19.80   \n",
       "112                 0.07769  ...         15.30          23.73   \n",
       "409                 0.05597  ...         14.10          28.88   \n",
       "\n",
       "     perimeter_worst  area_worst  smoothness_worst  compactness_worst  \\\n",
       "32            136.10      1344.0           0.16340             0.3559   \n",
       "4             152.20      1575.0           0.13740             0.2050   \n",
       "226            73.47       395.4           0.13410             0.1153   \n",
       "112           107.00       709.0           0.08949             0.4193   \n",
       "409            89.00       610.2           0.12400             0.1795   \n",
       "\n",
       "     concavity_worst  concave points_worst  symmetry_worst  \\\n",
       "32           0.55880               0.18470          0.3530   \n",
       "4            0.40000               0.16250          0.2364   \n",
       "226          0.02639               0.04464          0.2615   \n",
       "112          0.67830               0.15050          0.2398   \n",
       "409          0.13770               0.09532          0.3455   \n",
       "\n",
       "     fractal_dimension_worst  \n",
       "32                   0.08482  \n",
       "4                    0.07678  \n",
       "226                  0.08269  \n",
       "112                  0.10820  \n",
       "409                  0.06896  \n",
       "\n",
       "[5 rows x 30 columns]"
      ]
     },
     "execution_count": 13,
     "metadata": {},
     "output_type": "execute_result"
    }
   ],
   "source": [
    "X.sample(5)"
   ]
  },
  {
   "cell_type": "code",
   "execution_count": 14,
   "id": "ZshioE2OntOO",
   "metadata": {
    "colab": {
     "base_uri": "https://localhost:8080/"
    },
    "id": "ZshioE2OntOO",
    "outputId": "e1498242-721a-4ffa-a02f-15824cec20e1"
   },
   "outputs": [
    {
     "data": {
      "text/plain": [
       "112    B\n",
       "254    M\n",
       "539    B\n",
       "464    B\n",
       "132    M\n",
       "Name: diagnosis, dtype: object"
      ]
     },
     "execution_count": 14,
     "metadata": {},
     "output_type": "execute_result"
    }
   ],
   "source": [
    "Y.sample(5)"
   ]
  },
  {
   "cell_type": "markdown",
   "id": "IKoaFx-Qo5c4",
   "metadata": {
    "id": "IKoaFx-Qo5c4"
   },
   "source": [
    "#### Train Test Split"
   ]
  },
  {
   "cell_type": "code",
   "execution_count": 15,
   "id": "_5KtBVOantLI",
   "metadata": {
    "id": "_5KtBVOantLI"
   },
   "outputs": [],
   "source": [
    "from sklearn.model_selection import train_test_split\n",
    "X_train, X_test, Y_train, Y_test = train_test_split(X, Y, test_size = 0.30, random_state = 8)"
   ]
  },
  {
   "cell_type": "code",
   "execution_count": 16,
   "id": "xRiB-n-qntDF",
   "metadata": {
    "colab": {
     "base_uri": "https://localhost:8080/",
     "height": 243
    },
    "id": "xRiB-n-qntDF",
    "outputId": "a3b464bf-6215-496b-beb2-5a057103eea9"
   },
   "outputs": [
    {
     "data": {
      "text/html": [
       "<div>\n",
       "<style scoped>\n",
       "    .dataframe tbody tr th:only-of-type {\n",
       "        vertical-align: middle;\n",
       "    }\n",
       "\n",
       "    .dataframe tbody tr th {\n",
       "        vertical-align: top;\n",
       "    }\n",
       "\n",
       "    .dataframe thead th {\n",
       "        text-align: right;\n",
       "    }\n",
       "</style>\n",
       "<table border=\"1\" class=\"dataframe\">\n",
       "  <thead>\n",
       "    <tr style=\"text-align: right;\">\n",
       "      <th></th>\n",
       "      <th>radius_mean</th>\n",
       "      <th>texture_mean</th>\n",
       "      <th>perimeter_mean</th>\n",
       "      <th>area_mean</th>\n",
       "      <th>smoothness_mean</th>\n",
       "      <th>compactness_mean</th>\n",
       "      <th>concavity_mean</th>\n",
       "      <th>concave points_mean</th>\n",
       "      <th>symmetry_mean</th>\n",
       "      <th>fractal_dimension_mean</th>\n",
       "      <th>...</th>\n",
       "      <th>radius_worst</th>\n",
       "      <th>texture_worst</th>\n",
       "      <th>perimeter_worst</th>\n",
       "      <th>area_worst</th>\n",
       "      <th>smoothness_worst</th>\n",
       "      <th>compactness_worst</th>\n",
       "      <th>concavity_worst</th>\n",
       "      <th>concave points_worst</th>\n",
       "      <th>symmetry_worst</th>\n",
       "      <th>fractal_dimension_worst</th>\n",
       "    </tr>\n",
       "  </thead>\n",
       "  <tbody>\n",
       "    <tr>\n",
       "      <th>128</th>\n",
       "      <td>15.100</td>\n",
       "      <td>16.39</td>\n",
       "      <td>99.58</td>\n",
       "      <td>674.5</td>\n",
       "      <td>0.11500</td>\n",
       "      <td>0.18070</td>\n",
       "      <td>0.11380</td>\n",
       "      <td>0.085340</td>\n",
       "      <td>0.2001</td>\n",
       "      <td>0.06467</td>\n",
       "      <td>...</td>\n",
       "      <td>16.110</td>\n",
       "      <td>18.33</td>\n",
       "      <td>105.90</td>\n",
       "      <td>762.6</td>\n",
       "      <td>0.13860</td>\n",
       "      <td>0.2883</td>\n",
       "      <td>0.19600</td>\n",
       "      <td>0.14230</td>\n",
       "      <td>0.2590</td>\n",
       "      <td>0.07779</td>\n",
       "    </tr>\n",
       "    <tr>\n",
       "      <th>505</th>\n",
       "      <td>9.676</td>\n",
       "      <td>13.14</td>\n",
       "      <td>64.12</td>\n",
       "      <td>272.5</td>\n",
       "      <td>0.12550</td>\n",
       "      <td>0.22040</td>\n",
       "      <td>0.11880</td>\n",
       "      <td>0.070380</td>\n",
       "      <td>0.2057</td>\n",
       "      <td>0.09575</td>\n",
       "      <td>...</td>\n",
       "      <td>10.600</td>\n",
       "      <td>18.04</td>\n",
       "      <td>69.47</td>\n",
       "      <td>328.1</td>\n",
       "      <td>0.20060</td>\n",
       "      <td>0.3663</td>\n",
       "      <td>0.29130</td>\n",
       "      <td>0.10750</td>\n",
       "      <td>0.2848</td>\n",
       "      <td>0.13640</td>\n",
       "    </tr>\n",
       "    <tr>\n",
       "      <th>231</th>\n",
       "      <td>11.320</td>\n",
       "      <td>27.08</td>\n",
       "      <td>71.76</td>\n",
       "      <td>395.7</td>\n",
       "      <td>0.06883</td>\n",
       "      <td>0.03813</td>\n",
       "      <td>0.01633</td>\n",
       "      <td>0.003125</td>\n",
       "      <td>0.1869</td>\n",
       "      <td>0.05628</td>\n",
       "      <td>...</td>\n",
       "      <td>12.080</td>\n",
       "      <td>33.75</td>\n",
       "      <td>79.82</td>\n",
       "      <td>452.3</td>\n",
       "      <td>0.09203</td>\n",
       "      <td>0.1432</td>\n",
       "      <td>0.10890</td>\n",
       "      <td>0.02083</td>\n",
       "      <td>0.2849</td>\n",
       "      <td>0.07087</td>\n",
       "    </tr>\n",
       "    <tr>\n",
       "      <th>305</th>\n",
       "      <td>11.600</td>\n",
       "      <td>24.49</td>\n",
       "      <td>74.23</td>\n",
       "      <td>417.2</td>\n",
       "      <td>0.07474</td>\n",
       "      <td>0.05688</td>\n",
       "      <td>0.01974</td>\n",
       "      <td>0.013130</td>\n",
       "      <td>0.1935</td>\n",
       "      <td>0.05878</td>\n",
       "      <td>...</td>\n",
       "      <td>12.440</td>\n",
       "      <td>31.62</td>\n",
       "      <td>81.39</td>\n",
       "      <td>476.5</td>\n",
       "      <td>0.09545</td>\n",
       "      <td>0.1361</td>\n",
       "      <td>0.07239</td>\n",
       "      <td>0.04815</td>\n",
       "      <td>0.3244</td>\n",
       "      <td>0.06745</td>\n",
       "    </tr>\n",
       "    <tr>\n",
       "      <th>412</th>\n",
       "      <td>9.397</td>\n",
       "      <td>21.68</td>\n",
       "      <td>59.75</td>\n",
       "      <td>268.8</td>\n",
       "      <td>0.07969</td>\n",
       "      <td>0.06053</td>\n",
       "      <td>0.03735</td>\n",
       "      <td>0.005128</td>\n",
       "      <td>0.1274</td>\n",
       "      <td>0.06724</td>\n",
       "      <td>...</td>\n",
       "      <td>9.965</td>\n",
       "      <td>27.99</td>\n",
       "      <td>66.61</td>\n",
       "      <td>301.0</td>\n",
       "      <td>0.10860</td>\n",
       "      <td>0.1887</td>\n",
       "      <td>0.18680</td>\n",
       "      <td>0.02564</td>\n",
       "      <td>0.2376</td>\n",
       "      <td>0.09206</td>\n",
       "    </tr>\n",
       "  </tbody>\n",
       "</table>\n",
       "<p>5 rows × 30 columns</p>\n",
       "</div>"
      ],
      "text/plain": [
       "     radius_mean  texture_mean  perimeter_mean  area_mean  smoothness_mean  \\\n",
       "128       15.100         16.39           99.58      674.5          0.11500   \n",
       "505        9.676         13.14           64.12      272.5          0.12550   \n",
       "231       11.320         27.08           71.76      395.7          0.06883   \n",
       "305       11.600         24.49           74.23      417.2          0.07474   \n",
       "412        9.397         21.68           59.75      268.8          0.07969   \n",
       "\n",
       "     compactness_mean  concavity_mean  concave points_mean  symmetry_mean  \\\n",
       "128           0.18070         0.11380             0.085340         0.2001   \n",
       "505           0.22040         0.11880             0.070380         0.2057   \n",
       "231           0.03813         0.01633             0.003125         0.1869   \n",
       "305           0.05688         0.01974             0.013130         0.1935   \n",
       "412           0.06053         0.03735             0.005128         0.1274   \n",
       "\n",
       "     fractal_dimension_mean  ...  radius_worst  texture_worst  \\\n",
       "128                 0.06467  ...        16.110          18.33   \n",
       "505                 0.09575  ...        10.600          18.04   \n",
       "231                 0.05628  ...        12.080          33.75   \n",
       "305                 0.05878  ...        12.440          31.62   \n",
       "412                 0.06724  ...         9.965          27.99   \n",
       "\n",
       "     perimeter_worst  area_worst  smoothness_worst  compactness_worst  \\\n",
       "128           105.90       762.6           0.13860             0.2883   \n",
       "505            69.47       328.1           0.20060             0.3663   \n",
       "231            79.82       452.3           0.09203             0.1432   \n",
       "305            81.39       476.5           0.09545             0.1361   \n",
       "412            66.61       301.0           0.10860             0.1887   \n",
       "\n",
       "     concavity_worst  concave points_worst  symmetry_worst  \\\n",
       "128          0.19600               0.14230          0.2590   \n",
       "505          0.29130               0.10750          0.2848   \n",
       "231          0.10890               0.02083          0.2849   \n",
       "305          0.07239               0.04815          0.3244   \n",
       "412          0.18680               0.02564          0.2376   \n",
       "\n",
       "     fractal_dimension_worst  \n",
       "128                  0.07779  \n",
       "505                  0.13640  \n",
       "231                  0.07087  \n",
       "305                  0.06745  \n",
       "412                  0.09206  \n",
       "\n",
       "[5 rows x 30 columns]"
      ]
     },
     "execution_count": 16,
     "metadata": {},
     "output_type": "execute_result"
    }
   ],
   "source": [
    "X_train.sample(5)"
   ]
  },
  {
   "cell_type": "code",
   "execution_count": 17,
   "id": "ka8myTbUoEU-",
   "metadata": {
    "colab": {
     "base_uri": "https://localhost:8080/",
     "height": 243
    },
    "id": "ka8myTbUoEU-",
    "outputId": "990c1861-5a80-4752-dce7-810f8c44f682"
   },
   "outputs": [
    {
     "data": {
      "text/html": [
       "<div>\n",
       "<style scoped>\n",
       "    .dataframe tbody tr th:only-of-type {\n",
       "        vertical-align: middle;\n",
       "    }\n",
       "\n",
       "    .dataframe tbody tr th {\n",
       "        vertical-align: top;\n",
       "    }\n",
       "\n",
       "    .dataframe thead th {\n",
       "        text-align: right;\n",
       "    }\n",
       "</style>\n",
       "<table border=\"1\" class=\"dataframe\">\n",
       "  <thead>\n",
       "    <tr style=\"text-align: right;\">\n",
       "      <th></th>\n",
       "      <th>radius_mean</th>\n",
       "      <th>texture_mean</th>\n",
       "      <th>perimeter_mean</th>\n",
       "      <th>area_mean</th>\n",
       "      <th>smoothness_mean</th>\n",
       "      <th>compactness_mean</th>\n",
       "      <th>concavity_mean</th>\n",
       "      <th>concave points_mean</th>\n",
       "      <th>symmetry_mean</th>\n",
       "      <th>fractal_dimension_mean</th>\n",
       "      <th>...</th>\n",
       "      <th>radius_worst</th>\n",
       "      <th>texture_worst</th>\n",
       "      <th>perimeter_worst</th>\n",
       "      <th>area_worst</th>\n",
       "      <th>smoothness_worst</th>\n",
       "      <th>compactness_worst</th>\n",
       "      <th>concavity_worst</th>\n",
       "      <th>concave points_worst</th>\n",
       "      <th>symmetry_worst</th>\n",
       "      <th>fractal_dimension_worst</th>\n",
       "    </tr>\n",
       "  </thead>\n",
       "  <tbody>\n",
       "    <tr>\n",
       "      <th>374</th>\n",
       "      <td>13.690</td>\n",
       "      <td>16.07</td>\n",
       "      <td>87.84</td>\n",
       "      <td>579.1</td>\n",
       "      <td>0.08302</td>\n",
       "      <td>0.06374</td>\n",
       "      <td>0.02556</td>\n",
       "      <td>0.02031</td>\n",
       "      <td>0.1872</td>\n",
       "      <td>0.05669</td>\n",
       "      <td>...</td>\n",
       "      <td>14.840</td>\n",
       "      <td>20.21</td>\n",
       "      <td>99.16</td>\n",
       "      <td>670.6</td>\n",
       "      <td>0.1105</td>\n",
       "      <td>0.20960</td>\n",
       "      <td>0.1346</td>\n",
       "      <td>0.06987</td>\n",
       "      <td>0.3323</td>\n",
       "      <td>0.07701</td>\n",
       "    </tr>\n",
       "    <tr>\n",
       "      <th>510</th>\n",
       "      <td>11.740</td>\n",
       "      <td>14.69</td>\n",
       "      <td>76.31</td>\n",
       "      <td>426.0</td>\n",
       "      <td>0.08099</td>\n",
       "      <td>0.09661</td>\n",
       "      <td>0.06726</td>\n",
       "      <td>0.02639</td>\n",
       "      <td>0.1499</td>\n",
       "      <td>0.06758</td>\n",
       "      <td>...</td>\n",
       "      <td>12.450</td>\n",
       "      <td>17.60</td>\n",
       "      <td>81.25</td>\n",
       "      <td>473.8</td>\n",
       "      <td>0.1073</td>\n",
       "      <td>0.27930</td>\n",
       "      <td>0.2690</td>\n",
       "      <td>0.10560</td>\n",
       "      <td>0.2604</td>\n",
       "      <td>0.09879</td>\n",
       "    </tr>\n",
       "    <tr>\n",
       "      <th>126</th>\n",
       "      <td>13.610</td>\n",
       "      <td>24.69</td>\n",
       "      <td>87.76</td>\n",
       "      <td>572.6</td>\n",
       "      <td>0.09258</td>\n",
       "      <td>0.07862</td>\n",
       "      <td>0.05285</td>\n",
       "      <td>0.03085</td>\n",
       "      <td>0.1761</td>\n",
       "      <td>0.06130</td>\n",
       "      <td>...</td>\n",
       "      <td>16.890</td>\n",
       "      <td>35.64</td>\n",
       "      <td>113.20</td>\n",
       "      <td>848.7</td>\n",
       "      <td>0.1471</td>\n",
       "      <td>0.28840</td>\n",
       "      <td>0.3796</td>\n",
       "      <td>0.13290</td>\n",
       "      <td>0.3470</td>\n",
       "      <td>0.07900</td>\n",
       "    </tr>\n",
       "    <tr>\n",
       "      <th>175</th>\n",
       "      <td>8.671</td>\n",
       "      <td>14.45</td>\n",
       "      <td>54.42</td>\n",
       "      <td>227.2</td>\n",
       "      <td>0.09138</td>\n",
       "      <td>0.04276</td>\n",
       "      <td>0.00000</td>\n",
       "      <td>0.00000</td>\n",
       "      <td>0.1722</td>\n",
       "      <td>0.06724</td>\n",
       "      <td>...</td>\n",
       "      <td>9.262</td>\n",
       "      <td>17.04</td>\n",
       "      <td>58.36</td>\n",
       "      <td>259.2</td>\n",
       "      <td>0.1162</td>\n",
       "      <td>0.07057</td>\n",
       "      <td>0.0000</td>\n",
       "      <td>0.00000</td>\n",
       "      <td>0.2592</td>\n",
       "      <td>0.07848</td>\n",
       "    </tr>\n",
       "    <tr>\n",
       "      <th>195</th>\n",
       "      <td>12.910</td>\n",
       "      <td>16.33</td>\n",
       "      <td>82.53</td>\n",
       "      <td>516.4</td>\n",
       "      <td>0.07941</td>\n",
       "      <td>0.05366</td>\n",
       "      <td>0.03873</td>\n",
       "      <td>0.02377</td>\n",
       "      <td>0.1829</td>\n",
       "      <td>0.05667</td>\n",
       "      <td>...</td>\n",
       "      <td>13.880</td>\n",
       "      <td>22.00</td>\n",
       "      <td>90.81</td>\n",
       "      <td>600.6</td>\n",
       "      <td>0.1097</td>\n",
       "      <td>0.15060</td>\n",
       "      <td>0.1764</td>\n",
       "      <td>0.08235</td>\n",
       "      <td>0.3024</td>\n",
       "      <td>0.06949</td>\n",
       "    </tr>\n",
       "  </tbody>\n",
       "</table>\n",
       "<p>5 rows × 30 columns</p>\n",
       "</div>"
      ],
      "text/plain": [
       "     radius_mean  texture_mean  perimeter_mean  area_mean  smoothness_mean  \\\n",
       "374       13.690         16.07           87.84      579.1          0.08302   \n",
       "510       11.740         14.69           76.31      426.0          0.08099   \n",
       "126       13.610         24.69           87.76      572.6          0.09258   \n",
       "175        8.671         14.45           54.42      227.2          0.09138   \n",
       "195       12.910         16.33           82.53      516.4          0.07941   \n",
       "\n",
       "     compactness_mean  concavity_mean  concave points_mean  symmetry_mean  \\\n",
       "374           0.06374         0.02556              0.02031         0.1872   \n",
       "510           0.09661         0.06726              0.02639         0.1499   \n",
       "126           0.07862         0.05285              0.03085         0.1761   \n",
       "175           0.04276         0.00000              0.00000         0.1722   \n",
       "195           0.05366         0.03873              0.02377         0.1829   \n",
       "\n",
       "     fractal_dimension_mean  ...  radius_worst  texture_worst  \\\n",
       "374                 0.05669  ...        14.840          20.21   \n",
       "510                 0.06758  ...        12.450          17.60   \n",
       "126                 0.06130  ...        16.890          35.64   \n",
       "175                 0.06724  ...         9.262          17.04   \n",
       "195                 0.05667  ...        13.880          22.00   \n",
       "\n",
       "     perimeter_worst  area_worst  smoothness_worst  compactness_worst  \\\n",
       "374            99.16       670.6            0.1105            0.20960   \n",
       "510            81.25       473.8            0.1073            0.27930   \n",
       "126           113.20       848.7            0.1471            0.28840   \n",
       "175            58.36       259.2            0.1162            0.07057   \n",
       "195            90.81       600.6            0.1097            0.15060   \n",
       "\n",
       "     concavity_worst  concave points_worst  symmetry_worst  \\\n",
       "374           0.1346               0.06987          0.3323   \n",
       "510           0.2690               0.10560          0.2604   \n",
       "126           0.3796               0.13290          0.3470   \n",
       "175           0.0000               0.00000          0.2592   \n",
       "195           0.1764               0.08235          0.3024   \n",
       "\n",
       "     fractal_dimension_worst  \n",
       "374                  0.07701  \n",
       "510                  0.09879  \n",
       "126                  0.07900  \n",
       "175                  0.07848  \n",
       "195                  0.06949  \n",
       "\n",
       "[5 rows x 30 columns]"
      ]
     },
     "execution_count": 17,
     "metadata": {},
     "output_type": "execute_result"
    }
   ],
   "source": [
    "X_test.sample(5)"
   ]
  },
  {
   "cell_type": "code",
   "execution_count": 18,
   "id": "pQUNL0D5oESc",
   "metadata": {
    "colab": {
     "base_uri": "https://localhost:8080/"
    },
    "id": "pQUNL0D5oESc",
    "outputId": "2322f3d2-24eb-46e7-8f94-d1980a2dc170"
   },
   "outputs": [
    {
     "data": {
      "text/plain": [
       "189    B\n",
       "238    B\n",
       "106    B\n",
       "11     M\n",
       "506    B\n",
       "Name: diagnosis, dtype: object"
      ]
     },
     "execution_count": 18,
     "metadata": {},
     "output_type": "execute_result"
    }
   ],
   "source": [
    "Y_train.sample(5)"
   ]
  },
  {
   "cell_type": "code",
   "execution_count": 19,
   "id": "yD6npx51oEPd",
   "metadata": {
    "colab": {
     "base_uri": "https://localhost:8080/"
    },
    "id": "yD6npx51oEPd",
    "outputId": "61c19a04-3914-4675-f3ca-4f53079a9b89"
   },
   "outputs": [
    {
     "data": {
      "text/plain": [
       "100    M\n",
       "523    B\n",
       "457    B\n",
       "431    B\n",
       "553    B\n",
       "Name: diagnosis, dtype: object"
      ]
     },
     "execution_count": 19,
     "metadata": {},
     "output_type": "execute_result"
    }
   ],
   "source": [
    "Y_test.sample(5)"
   ]
  },
  {
   "cell_type": "code",
   "execution_count": 20,
   "id": "eLHvM5Tk8MxQ",
   "metadata": {
    "id": "eLHvM5Tk8MxQ"
   },
   "outputs": [],
   "source": [
    "from sklearn.metrics import accuracy_score"
   ]
  },
  {
   "cell_type": "markdown",
   "id": "96cc72af",
   "metadata": {
    "id": "96cc72af"
   },
   "source": [
    "### Decision Tree "
   ]
  },
  {
   "cell_type": "markdown",
   "id": "b81f0cde",
   "metadata": {
    "id": "b81f0cde"
   },
   "source": [
    "#### Fitting and Predicting "
   ]
  },
  {
   "cell_type": "code",
   "execution_count": 21,
   "id": "15eca334",
   "metadata": {
    "id": "15eca334"
   },
   "outputs": [
    {
     "data": {
      "text/plain": [
       "0.9415204678362573"
      ]
     },
     "execution_count": 21,
     "metadata": {},
     "output_type": "execute_result"
    }
   ],
   "source": [
    "from sklearn.tree import DecisionTreeClassifier\n",
    "DT = DecisionTreeClassifier()\n",
    "DT.fit(X_train,Y_train)\n",
    "predA = DT.predict(X_test)\n",
    "accuracy_score(predA,Y_test)"
   ]
  },
  {
   "cell_type": "markdown",
   "id": "tjLRA6mWpuD1",
   "metadata": {
    "id": "tjLRA6mWpuD1"
   },
   "source": [
    "### Classification Report "
   ]
  },
  {
   "cell_type": "code",
   "execution_count": 22,
   "id": "xOcvPSN4ocGT",
   "metadata": {
    "id": "xOcvPSN4ocGT"
   },
   "outputs": [
    {
     "name": "stdout",
     "output_type": "stream",
     "text": [
      "              precision    recall  f1-score   support\n",
      "\n",
      "           B       0.95      0.95      0.95       105\n",
      "           M       0.92      0.92      0.92        66\n",
      "\n",
      "    accuracy                           0.94       171\n",
      "   macro avg       0.94      0.94      0.94       171\n",
      "weighted avg       0.94      0.94      0.94       171\n",
      "\n"
     ]
    }
   ],
   "source": [
    "from sklearn.metrics import classification_report\n",
    "print(classification_report(Y_test, predA))"
   ]
  },
  {
   "cell_type": "markdown",
   "id": "1dd46af8",
   "metadata": {
    "id": "1dd46af8"
   },
   "source": [
    "### Confusion Matrix"
   ]
  },
  {
   "cell_type": "code",
   "execution_count": 23,
   "id": "YhsY9rC0ob78",
   "metadata": {
    "id": "YhsY9rC0ob78"
   },
   "outputs": [],
   "source": [
    "from sklearn.metrics import confusion_matrix"
   ]
  },
  {
   "cell_type": "code",
   "execution_count": 24,
   "id": "c4d6dcb8",
   "metadata": {
    "id": "c4d6dcb8"
   },
   "outputs": [
    {
     "data": {
      "text/plain": [
       "array([[100,   5],\n",
       "       [  5,  61]], dtype=int64)"
      ]
     },
     "execution_count": 24,
     "metadata": {},
     "output_type": "execute_result"
    }
   ],
   "source": [
    "CM = confusion_matrix(Y_test, predA)\n",
    "CM"
   ]
  },
  {
   "cell_type": "code",
   "execution_count": 25,
   "id": "4d56dc79",
   "metadata": {
    "id": "4d56dc79"
   },
   "outputs": [
    {
     "data": {
      "text/plain": [
       "0.9415204678362573"
      ]
     },
     "execution_count": 25,
     "metadata": {},
     "output_type": "execute_result"
    }
   ],
   "source": [
    "Accuracy = (CM[0][0] + CM[1][1]) / (CM[0][0] + CM[1][1] + CM[0][1] + CM[1][0])\n",
    "Accuracy"
   ]
  },
  {
   "cell_type": "code",
   "execution_count": 26,
   "id": "cc8e35ec",
   "metadata": {
    "id": "cc8e35ec"
   },
   "outputs": [
    {
     "data": {
      "text/plain": [
       "0.05847953216374269"
      ]
     },
     "execution_count": 26,
     "metadata": {},
     "output_type": "execute_result"
    }
   ],
   "source": [
    "ErrorRate = (CM[0][1] + CM[1][0]) / (CM[0][0] + CM[1][1] + CM[0][1] + CM[1][0])\n",
    "ErrorRate"
   ]
  },
  {
   "cell_type": "code",
   "execution_count": 27,
   "id": "5b0ce6f8",
   "metadata": {
    "id": "5b0ce6f8"
   },
   "outputs": [
    {
     "data": {
      "text/plain": [
       "0.9523809523809523"
      ]
     },
     "execution_count": 27,
     "metadata": {},
     "output_type": "execute_result"
    }
   ],
   "source": [
    "Sensitivity = CM[0][0]/(CM[0][0] + CM[1][0])\n",
    "Sensitivity"
   ]
  },
  {
   "cell_type": "code",
   "execution_count": 28,
   "id": "f20f98b7",
   "metadata": {
    "id": "f20f98b7"
   },
   "outputs": [
    {
     "data": {
      "text/plain": [
       "0.9242424242424242"
      ]
     },
     "execution_count": 28,
     "metadata": {},
     "output_type": "execute_result"
    }
   ],
   "source": [
    "Specificity = CM[1][1]/(CM[1][1] + CM[0][1])\n",
    "Specificity"
   ]
  },
  {
   "cell_type": "code",
   "execution_count": 29,
   "id": "34a234a9",
   "metadata": {
    "id": "34a234a9"
   },
   "outputs": [
    {
     "data": {
      "text/plain": [
       "0.9523809523809523"
      ]
     },
     "execution_count": 29,
     "metadata": {},
     "output_type": "execute_result"
    }
   ],
   "source": [
    "Recall = CM[0][0]/(CM[0][0] + CM[1][0])\n",
    "Recall"
   ]
  },
  {
   "cell_type": "code",
   "execution_count": 30,
   "id": "fce71e3c",
   "metadata": {
    "id": "fce71e3c"
   },
   "outputs": [
    {
     "data": {
      "text/plain": [
       "0.9523809523809523"
      ]
     },
     "execution_count": 30,
     "metadata": {},
     "output_type": "execute_result"
    }
   ],
   "source": [
    "Precision = CM[0][0]/(CM[0][0] + CM[0][1])\n",
    "Precision"
   ]
  },
  {
   "cell_type": "code",
   "execution_count": 31,
   "id": "b20bcae1",
   "metadata": {
    "id": "b20bcae1"
   },
   "outputs": [
    {
     "data": {
      "text/plain": [
       "0.9523809523809523"
      ]
     },
     "execution_count": 31,
     "metadata": {},
     "output_type": "execute_result"
    }
   ],
   "source": [
    "F1Score = (2*(Precision*Recall))/(Precision + Recall)\n",
    "F1Score"
   ]
  },
  {
   "cell_type": "markdown",
   "id": "3822cfb2",
   "metadata": {},
   "source": [
    "### Random Forest Classifier"
   ]
  },
  {
   "cell_type": "code",
   "execution_count": 32,
   "id": "2b59062e",
   "metadata": {},
   "outputs": [
    {
     "data": {
      "text/plain": [
       "0.9707602339181286"
      ]
     },
     "execution_count": 32,
     "metadata": {},
     "output_type": "execute_result"
    }
   ],
   "source": [
    "from sklearn.ensemble import RandomForestClassifier\n",
    "RF = RandomForestClassifier(n_estimators = 300)\n",
    "RF.fit(X_train, Y_train)\n",
    "predB = RF.predict(X_test)\n",
    "accuracy_score(predB,Y_test)"
   ]
  },
  {
   "cell_type": "markdown",
   "id": "232c9458",
   "metadata": {},
   "source": [
    "### Classification Report "
   ]
  },
  {
   "cell_type": "code",
   "execution_count": 33,
   "id": "428aa674",
   "metadata": {},
   "outputs": [
    {
     "name": "stdout",
     "output_type": "stream",
     "text": [
      "              precision    recall  f1-score   support\n",
      "\n",
      "           B       0.95      1.00      0.98       105\n",
      "           M       1.00      0.92      0.96        66\n",
      "\n",
      "    accuracy                           0.97       171\n",
      "   macro avg       0.98      0.96      0.97       171\n",
      "weighted avg       0.97      0.97      0.97       171\n",
      "\n"
     ]
    }
   ],
   "source": [
    "from sklearn.metrics import classification_report\n",
    "print(classification_report(Y_test, predB))"
   ]
  },
  {
   "cell_type": "markdown",
   "id": "41b558b5",
   "metadata": {
    "id": "1dd46af8"
   },
   "source": [
    "### Confusion Matrix"
   ]
  },
  {
   "cell_type": "code",
   "execution_count": 34,
   "id": "5be67729",
   "metadata": {
    "id": "c4d6dcb8"
   },
   "outputs": [
    {
     "data": {
      "text/plain": [
       "array([[105,   0],\n",
       "       [  5,  61]], dtype=int64)"
      ]
     },
     "execution_count": 34,
     "metadata": {},
     "output_type": "execute_result"
    }
   ],
   "source": [
    "CM = confusion_matrix(Y_test, predB)\n",
    "CM"
   ]
  },
  {
   "cell_type": "code",
   "execution_count": 35,
   "id": "564d6ce9",
   "metadata": {
    "id": "4d56dc79"
   },
   "outputs": [
    {
     "data": {
      "text/plain": [
       "0.9707602339181286"
      ]
     },
     "execution_count": 35,
     "metadata": {},
     "output_type": "execute_result"
    }
   ],
   "source": [
    "Accuracy = (CM[0][0] + CM[1][1]) / (CM[0][0] + CM[1][1] + CM[0][1] + CM[1][0])\n",
    "Accuracy"
   ]
  },
  {
   "cell_type": "code",
   "execution_count": 36,
   "id": "9a184ef8",
   "metadata": {
    "id": "cc8e35ec"
   },
   "outputs": [
    {
     "data": {
      "text/plain": [
       "0.029239766081871343"
      ]
     },
     "execution_count": 36,
     "metadata": {},
     "output_type": "execute_result"
    }
   ],
   "source": [
    "ErrorRate = (CM[0][1] + CM[1][0]) / (CM[0][0] + CM[1][1] + CM[0][1] + CM[1][0])\n",
    "ErrorRate"
   ]
  },
  {
   "cell_type": "code",
   "execution_count": 37,
   "id": "2771e49a",
   "metadata": {
    "id": "5b0ce6f8"
   },
   "outputs": [
    {
     "data": {
      "text/plain": [
       "0.9545454545454546"
      ]
     },
     "execution_count": 37,
     "metadata": {},
     "output_type": "execute_result"
    }
   ],
   "source": [
    "Sensitivity = CM[0][0]/(CM[0][0] + CM[1][0])\n",
    "Sensitivity"
   ]
  },
  {
   "cell_type": "code",
   "execution_count": 38,
   "id": "27f6aeb7",
   "metadata": {
    "id": "f20f98b7"
   },
   "outputs": [
    {
     "data": {
      "text/plain": [
       "1.0"
      ]
     },
     "execution_count": 38,
     "metadata": {},
     "output_type": "execute_result"
    }
   ],
   "source": [
    "Specificity = CM[1][1]/(CM[1][1] + CM[0][1])\n",
    "Specificity"
   ]
  },
  {
   "cell_type": "code",
   "execution_count": 39,
   "id": "2389a217",
   "metadata": {
    "id": "34a234a9"
   },
   "outputs": [
    {
     "data": {
      "text/plain": [
       "0.9545454545454546"
      ]
     },
     "execution_count": 39,
     "metadata": {},
     "output_type": "execute_result"
    }
   ],
   "source": [
    "Recall = CM[0][0]/(CM[0][0] + CM[1][0])\n",
    "Recall"
   ]
  },
  {
   "cell_type": "code",
   "execution_count": 40,
   "id": "81885cd3",
   "metadata": {
    "id": "fce71e3c"
   },
   "outputs": [
    {
     "data": {
      "text/plain": [
       "1.0"
      ]
     },
     "execution_count": 40,
     "metadata": {},
     "output_type": "execute_result"
    }
   ],
   "source": [
    "Precision = CM[0][0]/(CM[0][0] + CM[0][1])\n",
    "Precision"
   ]
  },
  {
   "cell_type": "code",
   "execution_count": 41,
   "id": "0392339a",
   "metadata": {
    "id": "b20bcae1"
   },
   "outputs": [
    {
     "data": {
      "text/plain": [
       "0.9767441860465117"
      ]
     },
     "execution_count": 41,
     "metadata": {},
     "output_type": "execute_result"
    }
   ],
   "source": [
    "F1Score = (2*(Precision*Recall))/(Precision + Recall)\n",
    "F1Score"
   ]
  },
  {
   "cell_type": "markdown",
   "id": "ca66213c",
   "metadata": {
    "id": "e55f2206"
   },
   "source": [
    "### Evaluating the Effect of Parameters For Decision Tree"
   ]
  },
  {
   "cell_type": "code",
   "execution_count": 42,
   "id": "6aa9429d",
   "metadata": {
    "id": "e1975a27"
   },
   "outputs": [],
   "source": [
    "def doDecisionTree(X, Y, test_size = 0.20, randomstate = 8,c='gini',mf = 'auto'):\n",
    "    X_train, X_test, Y_train, Y_test = train_test_split(X, Y, test_size = test_size, random_state = randomstate)\n",
    "    cls2 = DecisionTreeClassifier(criterion = c, max_features = mf)\n",
    "    cls2.fit(X_train,Y_train)\n",
    "    pred = cls2.predict(X_test)\n",
    "    acc_score2 = accuracy_score(pred,Y_test)\n",
    "    return acc_score2"
   ]
  },
  {
   "cell_type": "code",
   "execution_count": 43,
   "id": "3dcc750e",
   "metadata": {
    "id": "31924d66"
   },
   "outputs": [],
   "source": [
    "test_size = [0.30, 0.25, 0.20,0.10]\n",
    "random_states = [8, 27, 42]\n",
    "n_neighbours = [2,3,4,5]\n",
    "\n",
    "criterions=['gini', 'entropy']\n",
    "maxfeatures=['auto', 'sqrt', 'log2']"
   ]
  },
  {
   "cell_type": "code",
   "execution_count": 44,
   "id": "76a5f656",
   "metadata": {
    "id": "0082482e"
   },
   "outputs": [],
   "source": [
    "df1 = pd.DataFrame(columns = ['Test Size', 'Random States','Decision Tree Accuracy','Criterions','Max features'])"
   ]
  },
  {
   "cell_type": "code",
   "execution_count": 45,
   "id": "a977950c",
   "metadata": {
    "id": "98f68223"
   },
   "outputs": [],
   "source": [
    "for t_size in test_size:\n",
    "    for r_state in random_states:\n",
    "        for crs in criterions:\n",
    "            for mfs in maxfeatures:\n",
    "                     \n",
    "                Algo1 = doDecisionTree(X, Y, t_size, r_state, crs, mfs)\n",
    "                DecisionTree = {} \n",
    "                DecisionTree['Test Size'] = t_size\n",
    "                DecisionTree['Random States'] = r_state\n",
    "                DecisionTree['Decision Tree Accuracy'] = Algo1\n",
    "                DecisionTree['Criterions'] = crs\n",
    "                DecisionTree['Max features'] = mfs\n",
    "\n",
    "                df1 = df1.append(DecisionTree, ignore_index = True)"
   ]
  },
  {
   "cell_type": "code",
   "execution_count": 46,
   "id": "65cecc76",
   "metadata": {
    "id": "374057da"
   },
   "outputs": [
    {
     "data": {
      "text/html": [
       "<div>\n",
       "<style scoped>\n",
       "    .dataframe tbody tr th:only-of-type {\n",
       "        vertical-align: middle;\n",
       "    }\n",
       "\n",
       "    .dataframe tbody tr th {\n",
       "        vertical-align: top;\n",
       "    }\n",
       "\n",
       "    .dataframe thead th {\n",
       "        text-align: right;\n",
       "    }\n",
       "</style>\n",
       "<table border=\"1\" class=\"dataframe\">\n",
       "  <thead>\n",
       "    <tr style=\"text-align: right;\">\n",
       "      <th></th>\n",
       "      <th>Test Size</th>\n",
       "      <th>Random States</th>\n",
       "      <th>Decision Tree Accuracy</th>\n",
       "      <th>Criterions</th>\n",
       "      <th>Max features</th>\n",
       "    </tr>\n",
       "  </thead>\n",
       "  <tbody>\n",
       "    <tr>\n",
       "      <th>6</th>\n",
       "      <td>0.30</td>\n",
       "      <td>27</td>\n",
       "      <td>0.894737</td>\n",
       "      <td>gini</td>\n",
       "      <td>auto</td>\n",
       "    </tr>\n",
       "    <tr>\n",
       "      <th>35</th>\n",
       "      <td>0.25</td>\n",
       "      <td>42</td>\n",
       "      <td>0.944056</td>\n",
       "      <td>entropy</td>\n",
       "      <td>log2</td>\n",
       "    </tr>\n",
       "    <tr>\n",
       "      <th>25</th>\n",
       "      <td>0.25</td>\n",
       "      <td>27</td>\n",
       "      <td>0.958042</td>\n",
       "      <td>gini</td>\n",
       "      <td>sqrt</td>\n",
       "    </tr>\n",
       "    <tr>\n",
       "      <th>15</th>\n",
       "      <td>0.30</td>\n",
       "      <td>42</td>\n",
       "      <td>0.947368</td>\n",
       "      <td>entropy</td>\n",
       "      <td>auto</td>\n",
       "    </tr>\n",
       "    <tr>\n",
       "      <th>30</th>\n",
       "      <td>0.25</td>\n",
       "      <td>42</td>\n",
       "      <td>0.951049</td>\n",
       "      <td>gini</td>\n",
       "      <td>auto</td>\n",
       "    </tr>\n",
       "    <tr>\n",
       "      <th>17</th>\n",
       "      <td>0.30</td>\n",
       "      <td>42</td>\n",
       "      <td>0.923977</td>\n",
       "      <td>entropy</td>\n",
       "      <td>log2</td>\n",
       "    </tr>\n",
       "    <tr>\n",
       "      <th>50</th>\n",
       "      <td>0.20</td>\n",
       "      <td>42</td>\n",
       "      <td>0.956140</td>\n",
       "      <td>gini</td>\n",
       "      <td>log2</td>\n",
       "    </tr>\n",
       "    <tr>\n",
       "      <th>54</th>\n",
       "      <td>0.10</td>\n",
       "      <td>8</td>\n",
       "      <td>0.947368</td>\n",
       "      <td>gini</td>\n",
       "      <td>auto</td>\n",
       "    </tr>\n",
       "    <tr>\n",
       "      <th>19</th>\n",
       "      <td>0.25</td>\n",
       "      <td>8</td>\n",
       "      <td>0.944056</td>\n",
       "      <td>gini</td>\n",
       "      <td>sqrt</td>\n",
       "    </tr>\n",
       "    <tr>\n",
       "      <th>53</th>\n",
       "      <td>0.20</td>\n",
       "      <td>42</td>\n",
       "      <td>0.956140</td>\n",
       "      <td>entropy</td>\n",
       "      <td>log2</td>\n",
       "    </tr>\n",
       "  </tbody>\n",
       "</table>\n",
       "</div>"
      ],
      "text/plain": [
       "    Test Size Random States  Decision Tree Accuracy Criterions Max features\n",
       "6        0.30            27                0.894737       gini         auto\n",
       "35       0.25            42                0.944056    entropy         log2\n",
       "25       0.25            27                0.958042       gini         sqrt\n",
       "15       0.30            42                0.947368    entropy         auto\n",
       "30       0.25            42                0.951049       gini         auto\n",
       "17       0.30            42                0.923977    entropy         log2\n",
       "50       0.20            42                0.956140       gini         log2\n",
       "54       0.10             8                0.947368       gini         auto\n",
       "19       0.25             8                0.944056       gini         sqrt\n",
       "53       0.20            42                0.956140    entropy         log2"
      ]
     },
     "execution_count": 46,
     "metadata": {},
     "output_type": "execute_result"
    }
   ],
   "source": [
    "df1.sample(10)"
   ]
  },
  {
   "cell_type": "markdown",
   "id": "e55f2206",
   "metadata": {
    "id": "e55f2206"
   },
   "source": [
    "### Evaluating the Effect of Parameters For Random Forest Classification"
   ]
  },
  {
   "cell_type": "code",
   "execution_count": 47,
   "id": "e1975a27",
   "metadata": {
    "id": "e1975a27"
   },
   "outputs": [],
   "source": [
    "nesti = 100\n",
    "def doRandomForestClassifier(X, Y, test_size = 0.20, randomstate = 8,c = 'gini',mf = 'auto'):\n",
    "    X_train, X_test, Y_train, Y_test = train_test_split(X, Y, test_size = test_size, random_state = randomstate)\n",
    "    cls2 = RandomForestClassifier(criterion = c, max_features = mf, n_estimators = nesti)\n",
    "    cls2.fit(X_train,Y_train)\n",
    "    pred = cls2.predict(X_test)\n",
    "    acc_score2 = accuracy_score(pred,Y_test)\n",
    "    return acc_score2"
   ]
  },
  {
   "cell_type": "code",
   "execution_count": 48,
   "id": "31924d66",
   "metadata": {
    "id": "31924d66"
   },
   "outputs": [],
   "source": [
    "test_size = [0.30, 0.25, 0.20,0.10]\n",
    "random_states = [8, 27, 42]\n",
    "n_neighbours = [2,3,4,5]\n",
    "n_estimator = [100,200,300,400]\n",
    "\n",
    "criterions=['gini', 'entropy']\n",
    "maxfeatures=['auto', 'sqrt', 'log2']"
   ]
  },
  {
   "cell_type": "code",
   "execution_count": 49,
   "id": "0082482e",
   "metadata": {
    "id": "0082482e"
   },
   "outputs": [],
   "source": [
    "df2 = pd.DataFrame(columns = ['Test Size', 'Random States','N_Estimators','Randome State Accuracy','Criterions','Max features'])"
   ]
  },
  {
   "cell_type": "code",
   "execution_count": 50,
   "id": "98f68223",
   "metadata": {
    "id": "98f68223"
   },
   "outputs": [],
   "source": [
    "for t_size in test_size:\n",
    "    for r_state in random_states:\n",
    "        for n_esti in n_estimator:\n",
    "            for crs in criterions:\n",
    "                for mfs in maxfeatures:\n",
    "\n",
    "                    Algo2 = doRandomForestClassifier(X, Y, t_size, r_state, crs, mfs)\n",
    "                    RandomForest = {} \n",
    "                    RandomForest['Test Size'] = t_size\n",
    "                    RandomForest['Random States'] = r_state\n",
    "                    RandomForest['N_Estimators'] = n_esti\n",
    "                    RandomForest['Randome State Accuracy'] = Algo2\n",
    "                    RandomForest['Criterions'] = crs\n",
    "                    RandomForest['Max features'] = mfs\n",
    "\n",
    "                    df2 = df2.append(RandomForest, ignore_index = True)"
   ]
  },
  {
   "cell_type": "code",
   "execution_count": 51,
   "id": "374057da",
   "metadata": {
    "id": "374057da"
   },
   "outputs": [
    {
     "data": {
      "text/html": [
       "<div>\n",
       "<style scoped>\n",
       "    .dataframe tbody tr th:only-of-type {\n",
       "        vertical-align: middle;\n",
       "    }\n",
       "\n",
       "    .dataframe tbody tr th {\n",
       "        vertical-align: top;\n",
       "    }\n",
       "\n",
       "    .dataframe thead th {\n",
       "        text-align: right;\n",
       "    }\n",
       "</style>\n",
       "<table border=\"1\" class=\"dataframe\">\n",
       "  <thead>\n",
       "    <tr style=\"text-align: right;\">\n",
       "      <th></th>\n",
       "      <th>Test Size</th>\n",
       "      <th>Random States</th>\n",
       "      <th>N_Estimators</th>\n",
       "      <th>Randome State Accuracy</th>\n",
       "      <th>Criterions</th>\n",
       "      <th>Max features</th>\n",
       "    </tr>\n",
       "  </thead>\n",
       "  <tbody>\n",
       "    <tr>\n",
       "      <th>46</th>\n",
       "      <td>0.30</td>\n",
       "      <td>27</td>\n",
       "      <td>400</td>\n",
       "      <td>0.964912</td>\n",
       "      <td>entropy</td>\n",
       "      <td>sqrt</td>\n",
       "    </tr>\n",
       "    <tr>\n",
       "      <th>225</th>\n",
       "      <td>0.10</td>\n",
       "      <td>8</td>\n",
       "      <td>200</td>\n",
       "      <td>0.947368</td>\n",
       "      <td>entropy</td>\n",
       "      <td>auto</td>\n",
       "    </tr>\n",
       "    <tr>\n",
       "      <th>269</th>\n",
       "      <td>0.10</td>\n",
       "      <td>42</td>\n",
       "      <td>100</td>\n",
       "      <td>0.964912</td>\n",
       "      <td>entropy</td>\n",
       "      <td>log2</td>\n",
       "    </tr>\n",
       "    <tr>\n",
       "      <th>229</th>\n",
       "      <td>0.10</td>\n",
       "      <td>8</td>\n",
       "      <td>300</td>\n",
       "      <td>0.929825</td>\n",
       "      <td>gini</td>\n",
       "      <td>sqrt</td>\n",
       "    </tr>\n",
       "    <tr>\n",
       "      <th>214</th>\n",
       "      <td>0.20</td>\n",
       "      <td>42</td>\n",
       "      <td>400</td>\n",
       "      <td>0.964912</td>\n",
       "      <td>entropy</td>\n",
       "      <td>sqrt</td>\n",
       "    </tr>\n",
       "    <tr>\n",
       "      <th>75</th>\n",
       "      <td>0.25</td>\n",
       "      <td>8</td>\n",
       "      <td>100</td>\n",
       "      <td>0.951049</td>\n",
       "      <td>entropy</td>\n",
       "      <td>auto</td>\n",
       "    </tr>\n",
       "    <tr>\n",
       "      <th>90</th>\n",
       "      <td>0.25</td>\n",
       "      <td>8</td>\n",
       "      <td>400</td>\n",
       "      <td>0.951049</td>\n",
       "      <td>gini</td>\n",
       "      <td>auto</td>\n",
       "    </tr>\n",
       "    <tr>\n",
       "      <th>4</th>\n",
       "      <td>0.30</td>\n",
       "      <td>8</td>\n",
       "      <td>100</td>\n",
       "      <td>0.970760</td>\n",
       "      <td>entropy</td>\n",
       "      <td>sqrt</td>\n",
       "    </tr>\n",
       "    <tr>\n",
       "      <th>22</th>\n",
       "      <td>0.30</td>\n",
       "      <td>8</td>\n",
       "      <td>400</td>\n",
       "      <td>0.970760</td>\n",
       "      <td>entropy</td>\n",
       "      <td>sqrt</td>\n",
       "    </tr>\n",
       "    <tr>\n",
       "      <th>278</th>\n",
       "      <td>0.10</td>\n",
       "      <td>42</td>\n",
       "      <td>300</td>\n",
       "      <td>0.964912</td>\n",
       "      <td>gini</td>\n",
       "      <td>log2</td>\n",
       "    </tr>\n",
       "  </tbody>\n",
       "</table>\n",
       "</div>"
      ],
      "text/plain": [
       "     Test Size Random States N_Estimators  Randome State Accuracy Criterions  \\\n",
       "46        0.30            27          400                0.964912    entropy   \n",
       "225       0.10             8          200                0.947368    entropy   \n",
       "269       0.10            42          100                0.964912    entropy   \n",
       "229       0.10             8          300                0.929825       gini   \n",
       "214       0.20            42          400                0.964912    entropy   \n",
       "75        0.25             8          100                0.951049    entropy   \n",
       "90        0.25             8          400                0.951049       gini   \n",
       "4         0.30             8          100                0.970760    entropy   \n",
       "22        0.30             8          400                0.970760    entropy   \n",
       "278       0.10            42          300                0.964912       gini   \n",
       "\n",
       "    Max features  \n",
       "46          sqrt  \n",
       "225         auto  \n",
       "269         log2  \n",
       "229         sqrt  \n",
       "214         sqrt  \n",
       "75          auto  \n",
       "90          auto  \n",
       "4           sqrt  \n",
       "22          sqrt  \n",
       "278         log2  "
      ]
     },
     "execution_count": 51,
     "metadata": {},
     "output_type": "execute_result"
    }
   ],
   "source": [
    "df2.sample(10)"
   ]
  },
  {
   "cell_type": "markdown",
   "id": "a2af6f59",
   "metadata": {},
   "source": [
    "### Decision Tree V/S Random Forest"
   ]
  },
  {
   "cell_type": "code",
   "execution_count": 52,
   "id": "e054718e",
   "metadata": {},
   "outputs": [],
   "source": [
    "df3 = pd.DataFrame(columns = ['Test Size', 'Random States','Decision Tree Accuracy','Random Forest Accuracy'])"
   ]
  },
  {
   "cell_type": "code",
   "execution_count": 53,
   "id": "c475494b",
   "metadata": {},
   "outputs": [],
   "source": [
    "for t_size in test_size:\n",
    "    for r_state in random_states:\n",
    "        Algo1 = doDecisionTree(X, Y, t_size, r_state)\n",
    "        Algo2 = doRandomForestClassifier(X, Y, t_size, r_state)\n",
    "        DTvsRF = {} \n",
    "        DTvsRF['Test Size'] = t_size\n",
    "        DTvsRF['Random States'] = r_state\n",
    "        DTvsRF['Decision Tree Accuracy'] = Algo1\n",
    "        DTvsRF['Random Forest Accuracy'] = Algo2\n",
    "\n",
    "        df3 = df3.append(DTvsRF, ignore_index = True)"
   ]
  },
  {
   "cell_type": "code",
   "execution_count": 54,
   "id": "8025bdce",
   "metadata": {},
   "outputs": [
    {
     "data": {
      "text/html": [
       "<div>\n",
       "<style scoped>\n",
       "    .dataframe tbody tr th:only-of-type {\n",
       "        vertical-align: middle;\n",
       "    }\n",
       "\n",
       "    .dataframe tbody tr th {\n",
       "        vertical-align: top;\n",
       "    }\n",
       "\n",
       "    .dataframe thead th {\n",
       "        text-align: right;\n",
       "    }\n",
       "</style>\n",
       "<table border=\"1\" class=\"dataframe\">\n",
       "  <thead>\n",
       "    <tr style=\"text-align: right;\">\n",
       "      <th></th>\n",
       "      <th>Test Size</th>\n",
       "      <th>Random States</th>\n",
       "      <th>Decision Tree Accuracy</th>\n",
       "      <th>Random Forest Accuracy</th>\n",
       "    </tr>\n",
       "  </thead>\n",
       "  <tbody>\n",
       "    <tr>\n",
       "      <th>4</th>\n",
       "      <td>0.25</td>\n",
       "      <td>27.0</td>\n",
       "      <td>0.902098</td>\n",
       "      <td>0.965035</td>\n",
       "    </tr>\n",
       "    <tr>\n",
       "      <th>1</th>\n",
       "      <td>0.30</td>\n",
       "      <td>27.0</td>\n",
       "      <td>0.894737</td>\n",
       "      <td>0.970760</td>\n",
       "    </tr>\n",
       "    <tr>\n",
       "      <th>9</th>\n",
       "      <td>0.10</td>\n",
       "      <td>8.0</td>\n",
       "      <td>0.912281</td>\n",
       "      <td>0.964912</td>\n",
       "    </tr>\n",
       "    <tr>\n",
       "      <th>5</th>\n",
       "      <td>0.25</td>\n",
       "      <td>42.0</td>\n",
       "      <td>0.930070</td>\n",
       "      <td>0.965035</td>\n",
       "    </tr>\n",
       "    <tr>\n",
       "      <th>7</th>\n",
       "      <td>0.20</td>\n",
       "      <td>27.0</td>\n",
       "      <td>0.938596</td>\n",
       "      <td>0.964912</td>\n",
       "    </tr>\n",
       "    <tr>\n",
       "      <th>3</th>\n",
       "      <td>0.25</td>\n",
       "      <td>8.0</td>\n",
       "      <td>0.951049</td>\n",
       "      <td>0.951049</td>\n",
       "    </tr>\n",
       "    <tr>\n",
       "      <th>11</th>\n",
       "      <td>0.10</td>\n",
       "      <td>42.0</td>\n",
       "      <td>0.929825</td>\n",
       "      <td>0.964912</td>\n",
       "    </tr>\n",
       "    <tr>\n",
       "      <th>6</th>\n",
       "      <td>0.20</td>\n",
       "      <td>8.0</td>\n",
       "      <td>0.912281</td>\n",
       "      <td>0.956140</td>\n",
       "    </tr>\n",
       "    <tr>\n",
       "      <th>8</th>\n",
       "      <td>0.20</td>\n",
       "      <td>42.0</td>\n",
       "      <td>0.929825</td>\n",
       "      <td>0.964912</td>\n",
       "    </tr>\n",
       "    <tr>\n",
       "      <th>0</th>\n",
       "      <td>0.30</td>\n",
       "      <td>8.0</td>\n",
       "      <td>0.959064</td>\n",
       "      <td>0.964912</td>\n",
       "    </tr>\n",
       "  </tbody>\n",
       "</table>\n",
       "</div>"
      ],
      "text/plain": [
       "    Test Size  Random States  Decision Tree Accuracy  Random Forest Accuracy\n",
       "4        0.25           27.0                0.902098                0.965035\n",
       "1        0.30           27.0                0.894737                0.970760\n",
       "9        0.10            8.0                0.912281                0.964912\n",
       "5        0.25           42.0                0.930070                0.965035\n",
       "7        0.20           27.0                0.938596                0.964912\n",
       "3        0.25            8.0                0.951049                0.951049\n",
       "11       0.10           42.0                0.929825                0.964912\n",
       "6        0.20            8.0                0.912281                0.956140\n",
       "8        0.20           42.0                0.929825                0.964912\n",
       "0        0.30            8.0                0.959064                0.964912"
      ]
     },
     "execution_count": 54,
     "metadata": {},
     "output_type": "execute_result"
    }
   ],
   "source": [
    "df3.sample(10)"
   ]
  },
  {
   "cell_type": "code",
   "execution_count": 55,
   "id": "2c84bd57",
   "metadata": {},
   "outputs": [],
   "source": [
    "df3.to_csv('DecisionTree_VS_RandomForest.csv')"
   ]
  },
  {
   "cell_type": "markdown",
   "id": "55ca156a",
   "metadata": {},
   "source": [
    "#### Exploratory Data Analysis On The Results Derived From - Decision Tree and Random Forest Algorithm."
   ]
  },
  {
   "cell_type": "markdown",
   "id": "ea594ae2",
   "metadata": {
    "colab": {
     "base_uri": "https://localhost:8080/"
    },
    "id": "DTG8h-M18fpO",
    "outputId": "afb8bc70-91f7-489e-ffbb-3c692c6ea7fd"
   },
   "source": [
    "$ ! pip install https://github.com/pandas-profiling/pandas-profiling/archive/master.zip "
   ]
  },
  {
   "cell_type": "markdown",
   "id": "a6027f8a",
   "metadata": {
    "id": "rFpRI9E-8fwl"
   },
   "source": [
    "$ from pandas_profiling import ProfileReport"
   ]
  },
  {
   "cell_type": "markdown",
   "id": "d72676d1",
   "metadata": {
    "id": "Y-mEwraN8f5q"
   },
   "source": [
    "$ profile = ProfileReport(df3)"
   ]
  },
  {
   "cell_type": "markdown",
   "id": "18466586",
   "metadata": {
    "colab": {
     "base_uri": "https://localhost:8080/",
     "height": 113,
     "referenced_widgets": [
      "8c515944f74446e99d44c180335868ac",
      "0f16ecf0d4664fcebc34bfb12124ac73",
      "d2891a0299284081a85c6dcd31701f97",
      "6db46d6a8e4048cfbf4f724411558c14",
      "2b966da766f846e783f91d93c0152480",
      "4601fd9c000a43c5b41ac68280be0753",
      "6bad22d92d3d492ab0b6ca512e9351be",
      "6a350af2d7c14bfaac87177b8150e2d2",
      "d6d426dbc4c14acbafb279bf7e3e2799",
      "b8f609a72d634585925087a96c7694d2",
      "8b7f2c962ee741929f939c25fa4d395a",
      "5412b7740c6b49a1a3162edad738b739",
      "d820e227af2e405ea5fddfff62379922",
      "3c5d418663804b6d880820b3c1eea950",
      "b6379a95984349d0af61947eb82cc93b",
      "6fb352d912cc4902b65e38a01d5c54d1",
      "a383884f3f404c99857c2e7ea0d55847",
      "7ec339d715994530872754a368b74f7f",
      "b92e01675fbd4b1a9df204da1eaac29d",
      "50272d781a5b4f9b82955706dd55c5b1",
      "401d654ace834cbd960190b8149c0da1",
      "f99c2bc023a24c698a1c9d459ef3dcb0",
      "fb97206abcae4db598bf35902633ff57",
      "2df6a6d391ef41bcb4e88623194ec33e",
      "f07ab87c4b7646729ccbef5044e2b234",
      "26fc0a428f444d768ec75a55f3eec6b9",
      "3fe45ceaaf42439c8cd8c82ae0466132",
      "586fc4648f3a4971b6b3784b7e3be9a7",
      "e00c8869b5f2426881f216017e9fcd4a",
      "0ea72eb154f54e1fb8da6c5203fe606c",
      "062408b08112498e80cea976ce57f9df",
      "f32984e9e2e1474c97b3fc25acfacd03",
      "4bc4e7b42ce34188bb6d4bdd2eb9d349"
     ]
    },
    "id": "oQu2v60x8gCP",
    "outputId": "ed97ad40-b137-49d6-99d6-2ef924a9dafd"
   },
   "source": [
    "$ profile.to_notebook_iframe()"
   ]
  },
  {
   "cell_type": "markdown",
   "id": "cc399b6c",
   "metadata": {
    "id": "ZdV3RbhV8gJr"
   },
   "source": [
    "$ profile.to_file(output_file = \"19112014_NishitRathod_EDA_BreastCancer_ResultsDerivedFromAlgorithms.html\")"
   ]
  },
  {
   "cell_type": "markdown",
   "id": "fa0c2a0d",
   "metadata": {
    "id": "fa0c2a0d"
   },
   "source": [
    "## Conclusion"
   ]
  },
  {
   "cell_type": "markdown",
   "id": "2d450670",
   "metadata": {
    "id": "2d450670"
   },
   "source": [
    "In this lab, we have tried to gain the knowledge about data and its variables, further we did some preprocessing to the data in order to bring it into more analyst friendly mode, laterly we implemented various graphs using various libraries in order to get valuable insights, furthermore, we implemented and evaluated various classification models to get high accuracy in terms of predicting breast cancer which can help the doctors to predict breast cancer for the patients."
   ]
  }
 ],
 "metadata": {
  "colab": {
   "collapsed_sections": [],
   "name": "19112014_Rathod_Nishit_Shailesh_ML_Lab_4_Predicting_Breast_Cancer.ipynb",
   "provenance": []
  },
  "kernelspec": {
   "display_name": "Python 3",
   "language": "python",
   "name": "python3"
  },
  "language_info": {
   "codemirror_mode": {
    "name": "ipython",
    "version": 3
   },
   "file_extension": ".py",
   "mimetype": "text/x-python",
   "name": "python",
   "nbconvert_exporter": "python",
   "pygments_lexer": "ipython3",
   "version": "3.7.10"
  },
  "widgets": {
   "application/vnd.jupyter.widget-state+json": {
    "062408b08112498e80cea976ce57f9df": {
     "model_module": "@jupyter-widgets/base",
     "model_module_version": "1.2.0",
     "model_name": "LayoutModel",
     "state": {
      "_model_module": "@jupyter-widgets/base",
      "_model_module_version": "1.2.0",
      "_model_name": "LayoutModel",
      "_view_count": null,
      "_view_module": "@jupyter-widgets/base",
      "_view_module_version": "1.2.0",
      "_view_name": "LayoutView",
      "align_content": null,
      "align_items": null,
      "align_self": null,
      "border": null,
      "bottom": null,
      "display": null,
      "flex": null,
      "flex_flow": null,
      "grid_area": null,
      "grid_auto_columns": null,
      "grid_auto_flow": null,
      "grid_auto_rows": null,
      "grid_column": null,
      "grid_gap": null,
      "grid_row": null,
      "grid_template_areas": null,
      "grid_template_columns": null,
      "grid_template_rows": null,
      "height": null,
      "justify_content": null,
      "justify_items": null,
      "left": null,
      "margin": null,
      "max_height": null,
      "max_width": null,
      "min_height": null,
      "min_width": null,
      "object_fit": null,
      "object_position": null,
      "order": null,
      "overflow": null,
      "overflow_x": null,
      "overflow_y": null,
      "padding": null,
      "right": null,
      "top": null,
      "visibility": null,
      "width": null
     }
    },
    "0ea72eb154f54e1fb8da6c5203fe606c": {
     "model_module": "@jupyter-widgets/controls",
     "model_module_version": "1.5.0",
     "model_name": "ProgressStyleModel",
     "state": {
      "_model_module": "@jupyter-widgets/controls",
      "_model_module_version": "1.5.0",
      "_model_name": "ProgressStyleModel",
      "_view_count": null,
      "_view_module": "@jupyter-widgets/base",
      "_view_module_version": "1.2.0",
      "_view_name": "StyleView",
      "bar_color": null,
      "description_width": ""
     }
    },
    "0f16ecf0d4664fcebc34bfb12124ac73": {
     "model_module": "@jupyter-widgets/base",
     "model_module_version": "1.2.0",
     "model_name": "LayoutModel",
     "state": {
      "_model_module": "@jupyter-widgets/base",
      "_model_module_version": "1.2.0",
      "_model_name": "LayoutModel",
      "_view_count": null,
      "_view_module": "@jupyter-widgets/base",
      "_view_module_version": "1.2.0",
      "_view_name": "LayoutView",
      "align_content": null,
      "align_items": null,
      "align_self": null,
      "border": null,
      "bottom": null,
      "display": null,
      "flex": null,
      "flex_flow": null,
      "grid_area": null,
      "grid_auto_columns": null,
      "grid_auto_flow": null,
      "grid_auto_rows": null,
      "grid_column": null,
      "grid_gap": null,
      "grid_row": null,
      "grid_template_areas": null,
      "grid_template_columns": null,
      "grid_template_rows": null,
      "height": null,
      "justify_content": null,
      "justify_items": null,
      "left": null,
      "margin": null,
      "max_height": null,
      "max_width": null,
      "min_height": null,
      "min_width": null,
      "object_fit": null,
      "object_position": null,
      "order": null,
      "overflow": null,
      "overflow_x": null,
      "overflow_y": null,
      "padding": null,
      "right": null,
      "top": null,
      "visibility": null,
      "width": null
     }
    },
    "26fc0a428f444d768ec75a55f3eec6b9": {
     "model_module": "@jupyter-widgets/controls",
     "model_module_version": "1.5.0",
     "model_name": "FloatProgressModel",
     "state": {
      "_dom_classes": [],
      "_model_module": "@jupyter-widgets/controls",
      "_model_module_version": "1.5.0",
      "_model_name": "FloatProgressModel",
      "_view_count": null,
      "_view_module": "@jupyter-widgets/controls",
      "_view_module_version": "1.5.0",
      "_view_name": "ProgressView",
      "bar_style": "success",
      "description": "",
      "description_tooltip": null,
      "layout": "IPY_MODEL_062408b08112498e80cea976ce57f9df",
      "max": 1,
      "min": 0,
      "orientation": "horizontal",
      "style": "IPY_MODEL_0ea72eb154f54e1fb8da6c5203fe606c",
      "value": 1
     }
    },
    "2b966da766f846e783f91d93c0152480": {
     "model_module": "@jupyter-widgets/controls",
     "model_module_version": "1.5.0",
     "model_name": "HTMLModel",
     "state": {
      "_dom_classes": [],
      "_model_module": "@jupyter-widgets/controls",
      "_model_module_version": "1.5.0",
      "_model_name": "HTMLModel",
      "_view_count": null,
      "_view_module": "@jupyter-widgets/controls",
      "_view_module_version": "1.5.0",
      "_view_name": "HTMLView",
      "description": "",
      "description_tooltip": null,
      "layout": "IPY_MODEL_8b7f2c962ee741929f939c25fa4d395a",
      "placeholder": "​",
      "style": "IPY_MODEL_b8f609a72d634585925087a96c7694d2",
      "value": " 944/944 [02:43&lt;00:00,  2.52it/s, Completed]"
     }
    },
    "2df6a6d391ef41bcb4e88623194ec33e": {
     "model_module": "@jupyter-widgets/base",
     "model_module_version": "1.2.0",
     "model_name": "LayoutModel",
     "state": {
      "_model_module": "@jupyter-widgets/base",
      "_model_module_version": "1.2.0",
      "_model_name": "LayoutModel",
      "_view_count": null,
      "_view_module": "@jupyter-widgets/base",
      "_view_module_version": "1.2.0",
      "_view_name": "LayoutView",
      "align_content": null,
      "align_items": null,
      "align_self": null,
      "border": null,
      "bottom": null,
      "display": null,
      "flex": null,
      "flex_flow": null,
      "grid_area": null,
      "grid_auto_columns": null,
      "grid_auto_flow": null,
      "grid_auto_rows": null,
      "grid_column": null,
      "grid_gap": null,
      "grid_row": null,
      "grid_template_areas": null,
      "grid_template_columns": null,
      "grid_template_rows": null,
      "height": null,
      "justify_content": null,
      "justify_items": null,
      "left": null,
      "margin": null,
      "max_height": null,
      "max_width": null,
      "min_height": null,
      "min_width": null,
      "object_fit": null,
      "object_position": null,
      "order": null,
      "overflow": null,
      "overflow_x": null,
      "overflow_y": null,
      "padding": null,
      "right": null,
      "top": null,
      "visibility": null,
      "width": null
     }
    },
    "3c5d418663804b6d880820b3c1eea950": {
     "model_module": "@jupyter-widgets/controls",
     "model_module_version": "1.5.0",
     "model_name": "HTMLModel",
     "state": {
      "_dom_classes": [],
      "_model_module": "@jupyter-widgets/controls",
      "_model_module_version": "1.5.0",
      "_model_name": "HTMLModel",
      "_view_count": null,
      "_view_module": "@jupyter-widgets/controls",
      "_view_module_version": "1.5.0",
      "_view_name": "HTMLView",
      "description": "",
      "description_tooltip": null,
      "layout": "IPY_MODEL_7ec339d715994530872754a368b74f7f",
      "placeholder": "​",
      "style": "IPY_MODEL_a383884f3f404c99857c2e7ea0d55847",
      "value": "Generate report structure: 100%"
     }
    },
    "3fe45ceaaf42439c8cd8c82ae0466132": {
     "model_module": "@jupyter-widgets/controls",
     "model_module_version": "1.5.0",
     "model_name": "HTMLModel",
     "state": {
      "_dom_classes": [],
      "_model_module": "@jupyter-widgets/controls",
      "_model_module_version": "1.5.0",
      "_model_name": "HTMLModel",
      "_view_count": null,
      "_view_module": "@jupyter-widgets/controls",
      "_view_module_version": "1.5.0",
      "_view_name": "HTMLView",
      "description": "",
      "description_tooltip": null,
      "layout": "IPY_MODEL_4bc4e7b42ce34188bb6d4bdd2eb9d349",
      "placeholder": "​",
      "style": "IPY_MODEL_f32984e9e2e1474c97b3fc25acfacd03",
      "value": " 1/1 [00:36&lt;00:00, 36.62s/it]"
     }
    },
    "401d654ace834cbd960190b8149c0da1": {
     "model_module": "@jupyter-widgets/controls",
     "model_module_version": "1.5.0",
     "model_name": "DescriptionStyleModel",
     "state": {
      "_model_module": "@jupyter-widgets/controls",
      "_model_module_version": "1.5.0",
      "_model_name": "DescriptionStyleModel",
      "_view_count": null,
      "_view_module": "@jupyter-widgets/base",
      "_view_module_version": "1.2.0",
      "_view_name": "StyleView",
      "description_width": ""
     }
    },
    "4601fd9c000a43c5b41ac68280be0753": {
     "model_module": "@jupyter-widgets/controls",
     "model_module_version": "1.5.0",
     "model_name": "DescriptionStyleModel",
     "state": {
      "_model_module": "@jupyter-widgets/controls",
      "_model_module_version": "1.5.0",
      "_model_name": "DescriptionStyleModel",
      "_view_count": null,
      "_view_module": "@jupyter-widgets/base",
      "_view_module_version": "1.2.0",
      "_view_name": "StyleView",
      "description_width": ""
     }
    },
    "4bc4e7b42ce34188bb6d4bdd2eb9d349": {
     "model_module": "@jupyter-widgets/base",
     "model_module_version": "1.2.0",
     "model_name": "LayoutModel",
     "state": {
      "_model_module": "@jupyter-widgets/base",
      "_model_module_version": "1.2.0",
      "_model_name": "LayoutModel",
      "_view_count": null,
      "_view_module": "@jupyter-widgets/base",
      "_view_module_version": "1.2.0",
      "_view_name": "LayoutView",
      "align_content": null,
      "align_items": null,
      "align_self": null,
      "border": null,
      "bottom": null,
      "display": null,
      "flex": null,
      "flex_flow": null,
      "grid_area": null,
      "grid_auto_columns": null,
      "grid_auto_flow": null,
      "grid_auto_rows": null,
      "grid_column": null,
      "grid_gap": null,
      "grid_row": null,
      "grid_template_areas": null,
      "grid_template_columns": null,
      "grid_template_rows": null,
      "height": null,
      "justify_content": null,
      "justify_items": null,
      "left": null,
      "margin": null,
      "max_height": null,
      "max_width": null,
      "min_height": null,
      "min_width": null,
      "object_fit": null,
      "object_position": null,
      "order": null,
      "overflow": null,
      "overflow_x": null,
      "overflow_y": null,
      "padding": null,
      "right": null,
      "top": null,
      "visibility": null,
      "width": null
     }
    },
    "50272d781a5b4f9b82955706dd55c5b1": {
     "model_module": "@jupyter-widgets/base",
     "model_module_version": "1.2.0",
     "model_name": "LayoutModel",
     "state": {
      "_model_module": "@jupyter-widgets/base",
      "_model_module_version": "1.2.0",
      "_model_name": "LayoutModel",
      "_view_count": null,
      "_view_module": "@jupyter-widgets/base",
      "_view_module_version": "1.2.0",
      "_view_name": "LayoutView",
      "align_content": null,
      "align_items": null,
      "align_self": null,
      "border": null,
      "bottom": null,
      "display": null,
      "flex": null,
      "flex_flow": null,
      "grid_area": null,
      "grid_auto_columns": null,
      "grid_auto_flow": null,
      "grid_auto_rows": null,
      "grid_column": null,
      "grid_gap": null,
      "grid_row": null,
      "grid_template_areas": null,
      "grid_template_columns": null,
      "grid_template_rows": null,
      "height": null,
      "justify_content": null,
      "justify_items": null,
      "left": null,
      "margin": null,
      "max_height": null,
      "max_width": null,
      "min_height": null,
      "min_width": null,
      "object_fit": null,
      "object_position": null,
      "order": null,
      "overflow": null,
      "overflow_x": null,
      "overflow_y": null,
      "padding": null,
      "right": null,
      "top": null,
      "visibility": null,
      "width": null
     }
    },
    "5412b7740c6b49a1a3162edad738b739": {
     "model_module": "@jupyter-widgets/controls",
     "model_module_version": "1.5.0",
     "model_name": "HBoxModel",
     "state": {
      "_dom_classes": [],
      "_model_module": "@jupyter-widgets/controls",
      "_model_module_version": "1.5.0",
      "_model_name": "HBoxModel",
      "_view_count": null,
      "_view_module": "@jupyter-widgets/controls",
      "_view_module_version": "1.5.0",
      "_view_name": "HBoxView",
      "box_style": "",
      "children": [
       "IPY_MODEL_3c5d418663804b6d880820b3c1eea950",
       "IPY_MODEL_b6379a95984349d0af61947eb82cc93b",
       "IPY_MODEL_6fb352d912cc4902b65e38a01d5c54d1"
      ],
      "layout": "IPY_MODEL_d820e227af2e405ea5fddfff62379922"
     }
    },
    "586fc4648f3a4971b6b3784b7e3be9a7": {
     "model_module": "@jupyter-widgets/controls",
     "model_module_version": "1.5.0",
     "model_name": "DescriptionStyleModel",
     "state": {
      "_model_module": "@jupyter-widgets/controls",
      "_model_module_version": "1.5.0",
      "_model_name": "DescriptionStyleModel",
      "_view_count": null,
      "_view_module": "@jupyter-widgets/base",
      "_view_module_version": "1.2.0",
      "_view_name": "StyleView",
      "description_width": ""
     }
    },
    "6a350af2d7c14bfaac87177b8150e2d2": {
     "model_module": "@jupyter-widgets/controls",
     "model_module_version": "1.5.0",
     "model_name": "ProgressStyleModel",
     "state": {
      "_model_module": "@jupyter-widgets/controls",
      "_model_module_version": "1.5.0",
      "_model_name": "ProgressStyleModel",
      "_view_count": null,
      "_view_module": "@jupyter-widgets/base",
      "_view_module_version": "1.2.0",
      "_view_name": "StyleView",
      "bar_color": null,
      "description_width": ""
     }
    },
    "6bad22d92d3d492ab0b6ca512e9351be": {
     "model_module": "@jupyter-widgets/base",
     "model_module_version": "1.2.0",
     "model_name": "LayoutModel",
     "state": {
      "_model_module": "@jupyter-widgets/base",
      "_model_module_version": "1.2.0",
      "_model_name": "LayoutModel",
      "_view_count": null,
      "_view_module": "@jupyter-widgets/base",
      "_view_module_version": "1.2.0",
      "_view_name": "LayoutView",
      "align_content": null,
      "align_items": null,
      "align_self": null,
      "border": null,
      "bottom": null,
      "display": null,
      "flex": null,
      "flex_flow": null,
      "grid_area": null,
      "grid_auto_columns": null,
      "grid_auto_flow": null,
      "grid_auto_rows": null,
      "grid_column": null,
      "grid_gap": null,
      "grid_row": null,
      "grid_template_areas": null,
      "grid_template_columns": null,
      "grid_template_rows": null,
      "height": null,
      "justify_content": null,
      "justify_items": null,
      "left": null,
      "margin": null,
      "max_height": null,
      "max_width": null,
      "min_height": null,
      "min_width": null,
      "object_fit": null,
      "object_position": null,
      "order": null,
      "overflow": null,
      "overflow_x": null,
      "overflow_y": null,
      "padding": null,
      "right": null,
      "top": null,
      "visibility": null,
      "width": null
     }
    },
    "6db46d6a8e4048cfbf4f724411558c14": {
     "model_module": "@jupyter-widgets/controls",
     "model_module_version": "1.5.0",
     "model_name": "FloatProgressModel",
     "state": {
      "_dom_classes": [],
      "_model_module": "@jupyter-widgets/controls",
      "_model_module_version": "1.5.0",
      "_model_name": "FloatProgressModel",
      "_view_count": null,
      "_view_module": "@jupyter-widgets/controls",
      "_view_module_version": "1.5.0",
      "_view_name": "ProgressView",
      "bar_style": "success",
      "description": "",
      "description_tooltip": null,
      "layout": "IPY_MODEL_d6d426dbc4c14acbafb279bf7e3e2799",
      "max": 5,
      "min": 0,
      "orientation": "horizontal",
      "style": "IPY_MODEL_6a350af2d7c14bfaac87177b8150e2d2",
      "value": 5
     }
    },
    "6fb352d912cc4902b65e38a01d5c54d1": {
     "model_module": "@jupyter-widgets/controls",
     "model_module_version": "1.5.0",
     "model_name": "HTMLModel",
     "state": {
      "_dom_classes": [],
      "_model_module": "@jupyter-widgets/controls",
      "_model_module_version": "1.5.0",
      "_model_name": "HTMLModel",
      "_view_count": null,
      "_view_module": "@jupyter-widgets/controls",
      "_view_module_version": "1.5.0",
      "_view_name": "HTMLView",
      "description": "",
      "description_tooltip": null,
      "layout": "IPY_MODEL_f99c2bc023a24c698a1c9d459ef3dcb0",
      "placeholder": "​",
      "style": "IPY_MODEL_401d654ace834cbd960190b8149c0da1",
      "value": " 1/1 [00:18&lt;00:00, 18.32s/it]"
     }
    },
    "7ec339d715994530872754a368b74f7f": {
     "model_module": "@jupyter-widgets/base",
     "model_module_version": "1.2.0",
     "model_name": "LayoutModel",
     "state": {
      "_model_module": "@jupyter-widgets/base",
      "_model_module_version": "1.2.0",
      "_model_name": "LayoutModel",
      "_view_count": null,
      "_view_module": "@jupyter-widgets/base",
      "_view_module_version": "1.2.0",
      "_view_name": "LayoutView",
      "align_content": null,
      "align_items": null,
      "align_self": null,
      "border": null,
      "bottom": null,
      "display": null,
      "flex": null,
      "flex_flow": null,
      "grid_area": null,
      "grid_auto_columns": null,
      "grid_auto_flow": null,
      "grid_auto_rows": null,
      "grid_column": null,
      "grid_gap": null,
      "grid_row": null,
      "grid_template_areas": null,
      "grid_template_columns": null,
      "grid_template_rows": null,
      "height": null,
      "justify_content": null,
      "justify_items": null,
      "left": null,
      "margin": null,
      "max_height": null,
      "max_width": null,
      "min_height": null,
      "min_width": null,
      "object_fit": null,
      "object_position": null,
      "order": null,
      "overflow": null,
      "overflow_x": null,
      "overflow_y": null,
      "padding": null,
      "right": null,
      "top": null,
      "visibility": null,
      "width": null
     }
    },
    "8b7f2c962ee741929f939c25fa4d395a": {
     "model_module": "@jupyter-widgets/base",
     "model_module_version": "1.2.0",
     "model_name": "LayoutModel",
     "state": {
      "_model_module": "@jupyter-widgets/base",
      "_model_module_version": "1.2.0",
      "_model_name": "LayoutModel",
      "_view_count": null,
      "_view_module": "@jupyter-widgets/base",
      "_view_module_version": "1.2.0",
      "_view_name": "LayoutView",
      "align_content": null,
      "align_items": null,
      "align_self": null,
      "border": null,
      "bottom": null,
      "display": null,
      "flex": null,
      "flex_flow": null,
      "grid_area": null,
      "grid_auto_columns": null,
      "grid_auto_flow": null,
      "grid_auto_rows": null,
      "grid_column": null,
      "grid_gap": null,
      "grid_row": null,
      "grid_template_areas": null,
      "grid_template_columns": null,
      "grid_template_rows": null,
      "height": null,
      "justify_content": null,
      "justify_items": null,
      "left": null,
      "margin": null,
      "max_height": null,
      "max_width": null,
      "min_height": null,
      "min_width": null,
      "object_fit": null,
      "object_position": null,
      "order": null,
      "overflow": null,
      "overflow_x": null,
      "overflow_y": null,
      "padding": null,
      "right": null,
      "top": null,
      "visibility": null,
      "width": null
     }
    },
    "8c515944f74446e99d44c180335868ac": {
     "model_module": "@jupyter-widgets/controls",
     "model_module_version": "1.5.0",
     "model_name": "HBoxModel",
     "state": {
      "_dom_classes": [],
      "_model_module": "@jupyter-widgets/controls",
      "_model_module_version": "1.5.0",
      "_model_name": "HBoxModel",
      "_view_count": null,
      "_view_module": "@jupyter-widgets/controls",
      "_view_module_version": "1.5.0",
      "_view_name": "HBoxView",
      "box_style": "",
      "children": [
       "IPY_MODEL_d2891a0299284081a85c6dcd31701f97",
       "IPY_MODEL_6db46d6a8e4048cfbf4f724411558c14",
       "IPY_MODEL_2b966da766f846e783f91d93c0152480"
      ],
      "layout": "IPY_MODEL_0f16ecf0d4664fcebc34bfb12124ac73"
     }
    },
    "a383884f3f404c99857c2e7ea0d55847": {
     "model_module": "@jupyter-widgets/controls",
     "model_module_version": "1.5.0",
     "model_name": "DescriptionStyleModel",
     "state": {
      "_model_module": "@jupyter-widgets/controls",
      "_model_module_version": "1.5.0",
      "_model_name": "DescriptionStyleModel",
      "_view_count": null,
      "_view_module": "@jupyter-widgets/base",
      "_view_module_version": "1.2.0",
      "_view_name": "StyleView",
      "description_width": ""
     }
    },
    "b6379a95984349d0af61947eb82cc93b": {
     "model_module": "@jupyter-widgets/controls",
     "model_module_version": "1.5.0",
     "model_name": "FloatProgressModel",
     "state": {
      "_dom_classes": [],
      "_model_module": "@jupyter-widgets/controls",
      "_model_module_version": "1.5.0",
      "_model_name": "FloatProgressModel",
      "_view_count": null,
      "_view_module": "@jupyter-widgets/controls",
      "_view_module_version": "1.5.0",
      "_view_name": "ProgressView",
      "bar_style": "success",
      "description": "",
      "description_tooltip": null,
      "layout": "IPY_MODEL_50272d781a5b4f9b82955706dd55c5b1",
      "max": 1,
      "min": 0,
      "orientation": "horizontal",
      "style": "IPY_MODEL_b92e01675fbd4b1a9df204da1eaac29d",
      "value": 1
     }
    },
    "b8f609a72d634585925087a96c7694d2": {
     "model_module": "@jupyter-widgets/controls",
     "model_module_version": "1.5.0",
     "model_name": "DescriptionStyleModel",
     "state": {
      "_model_module": "@jupyter-widgets/controls",
      "_model_module_version": "1.5.0",
      "_model_name": "DescriptionStyleModel",
      "_view_count": null,
      "_view_module": "@jupyter-widgets/base",
      "_view_module_version": "1.2.0",
      "_view_name": "StyleView",
      "description_width": ""
     }
    },
    "b92e01675fbd4b1a9df204da1eaac29d": {
     "model_module": "@jupyter-widgets/controls",
     "model_module_version": "1.5.0",
     "model_name": "ProgressStyleModel",
     "state": {
      "_model_module": "@jupyter-widgets/controls",
      "_model_module_version": "1.5.0",
      "_model_name": "ProgressStyleModel",
      "_view_count": null,
      "_view_module": "@jupyter-widgets/base",
      "_view_module_version": "1.2.0",
      "_view_name": "StyleView",
      "bar_color": null,
      "description_width": ""
     }
    },
    "d2891a0299284081a85c6dcd31701f97": {
     "model_module": "@jupyter-widgets/controls",
     "model_module_version": "1.5.0",
     "model_name": "HTMLModel",
     "state": {
      "_dom_classes": [],
      "_model_module": "@jupyter-widgets/controls",
      "_model_module_version": "1.5.0",
      "_model_name": "HTMLModel",
      "_view_count": null,
      "_view_module": "@jupyter-widgets/controls",
      "_view_module_version": "1.5.0",
      "_view_name": "HTMLView",
      "description": "",
      "description_tooltip": null,
      "layout": "IPY_MODEL_6bad22d92d3d492ab0b6ca512e9351be",
      "placeholder": "​",
      "style": "IPY_MODEL_4601fd9c000a43c5b41ac68280be0753",
      "value": "Summarize dataset: 100%"
     }
    },
    "d6d426dbc4c14acbafb279bf7e3e2799": {
     "model_module": "@jupyter-widgets/base",
     "model_module_version": "1.2.0",
     "model_name": "LayoutModel",
     "state": {
      "_model_module": "@jupyter-widgets/base",
      "_model_module_version": "1.2.0",
      "_model_name": "LayoutModel",
      "_view_count": null,
      "_view_module": "@jupyter-widgets/base",
      "_view_module_version": "1.2.0",
      "_view_name": "LayoutView",
      "align_content": null,
      "align_items": null,
      "align_self": null,
      "border": null,
      "bottom": null,
      "display": null,
      "flex": null,
      "flex_flow": null,
      "grid_area": null,
      "grid_auto_columns": null,
      "grid_auto_flow": null,
      "grid_auto_rows": null,
      "grid_column": null,
      "grid_gap": null,
      "grid_row": null,
      "grid_template_areas": null,
      "grid_template_columns": null,
      "grid_template_rows": null,
      "height": null,
      "justify_content": null,
      "justify_items": null,
      "left": null,
      "margin": null,
      "max_height": null,
      "max_width": null,
      "min_height": null,
      "min_width": null,
      "object_fit": null,
      "object_position": null,
      "order": null,
      "overflow": null,
      "overflow_x": null,
      "overflow_y": null,
      "padding": null,
      "right": null,
      "top": null,
      "visibility": null,
      "width": null
     }
    },
    "d820e227af2e405ea5fddfff62379922": {
     "model_module": "@jupyter-widgets/base",
     "model_module_version": "1.2.0",
     "model_name": "LayoutModel",
     "state": {
      "_model_module": "@jupyter-widgets/base",
      "_model_module_version": "1.2.0",
      "_model_name": "LayoutModel",
      "_view_count": null,
      "_view_module": "@jupyter-widgets/base",
      "_view_module_version": "1.2.0",
      "_view_name": "LayoutView",
      "align_content": null,
      "align_items": null,
      "align_self": null,
      "border": null,
      "bottom": null,
      "display": null,
      "flex": null,
      "flex_flow": null,
      "grid_area": null,
      "grid_auto_columns": null,
      "grid_auto_flow": null,
      "grid_auto_rows": null,
      "grid_column": null,
      "grid_gap": null,
      "grid_row": null,
      "grid_template_areas": null,
      "grid_template_columns": null,
      "grid_template_rows": null,
      "height": null,
      "justify_content": null,
      "justify_items": null,
      "left": null,
      "margin": null,
      "max_height": null,
      "max_width": null,
      "min_height": null,
      "min_width": null,
      "object_fit": null,
      "object_position": null,
      "order": null,
      "overflow": null,
      "overflow_x": null,
      "overflow_y": null,
      "padding": null,
      "right": null,
      "top": null,
      "visibility": null,
      "width": null
     }
    },
    "e00c8869b5f2426881f216017e9fcd4a": {
     "model_module": "@jupyter-widgets/base",
     "model_module_version": "1.2.0",
     "model_name": "LayoutModel",
     "state": {
      "_model_module": "@jupyter-widgets/base",
      "_model_module_version": "1.2.0",
      "_model_name": "LayoutModel",
      "_view_count": null,
      "_view_module": "@jupyter-widgets/base",
      "_view_module_version": "1.2.0",
      "_view_name": "LayoutView",
      "align_content": null,
      "align_items": null,
      "align_self": null,
      "border": null,
      "bottom": null,
      "display": null,
      "flex": null,
      "flex_flow": null,
      "grid_area": null,
      "grid_auto_columns": null,
      "grid_auto_flow": null,
      "grid_auto_rows": null,
      "grid_column": null,
      "grid_gap": null,
      "grid_row": null,
      "grid_template_areas": null,
      "grid_template_columns": null,
      "grid_template_rows": null,
      "height": null,
      "justify_content": null,
      "justify_items": null,
      "left": null,
      "margin": null,
      "max_height": null,
      "max_width": null,
      "min_height": null,
      "min_width": null,
      "object_fit": null,
      "object_position": null,
      "order": null,
      "overflow": null,
      "overflow_x": null,
      "overflow_y": null,
      "padding": null,
      "right": null,
      "top": null,
      "visibility": null,
      "width": null
     }
    },
    "f07ab87c4b7646729ccbef5044e2b234": {
     "model_module": "@jupyter-widgets/controls",
     "model_module_version": "1.5.0",
     "model_name": "HTMLModel",
     "state": {
      "_dom_classes": [],
      "_model_module": "@jupyter-widgets/controls",
      "_model_module_version": "1.5.0",
      "_model_name": "HTMLModel",
      "_view_count": null,
      "_view_module": "@jupyter-widgets/controls",
      "_view_module_version": "1.5.0",
      "_view_name": "HTMLView",
      "description": "",
      "description_tooltip": null,
      "layout": "IPY_MODEL_e00c8869b5f2426881f216017e9fcd4a",
      "placeholder": "​",
      "style": "IPY_MODEL_586fc4648f3a4971b6b3784b7e3be9a7",
      "value": "Render HTML: 100%"
     }
    },
    "f32984e9e2e1474c97b3fc25acfacd03": {
     "model_module": "@jupyter-widgets/controls",
     "model_module_version": "1.5.0",
     "model_name": "DescriptionStyleModel",
     "state": {
      "_model_module": "@jupyter-widgets/controls",
      "_model_module_version": "1.5.0",
      "_model_name": "DescriptionStyleModel",
      "_view_count": null,
      "_view_module": "@jupyter-widgets/base",
      "_view_module_version": "1.2.0",
      "_view_name": "StyleView",
      "description_width": ""
     }
    },
    "f99c2bc023a24c698a1c9d459ef3dcb0": {
     "model_module": "@jupyter-widgets/base",
     "model_module_version": "1.2.0",
     "model_name": "LayoutModel",
     "state": {
      "_model_module": "@jupyter-widgets/base",
      "_model_module_version": "1.2.0",
      "_model_name": "LayoutModel",
      "_view_count": null,
      "_view_module": "@jupyter-widgets/base",
      "_view_module_version": "1.2.0",
      "_view_name": "LayoutView",
      "align_content": null,
      "align_items": null,
      "align_self": null,
      "border": null,
      "bottom": null,
      "display": null,
      "flex": null,
      "flex_flow": null,
      "grid_area": null,
      "grid_auto_columns": null,
      "grid_auto_flow": null,
      "grid_auto_rows": null,
      "grid_column": null,
      "grid_gap": null,
      "grid_row": null,
      "grid_template_areas": null,
      "grid_template_columns": null,
      "grid_template_rows": null,
      "height": null,
      "justify_content": null,
      "justify_items": null,
      "left": null,
      "margin": null,
      "max_height": null,
      "max_width": null,
      "min_height": null,
      "min_width": null,
      "object_fit": null,
      "object_position": null,
      "order": null,
      "overflow": null,
      "overflow_x": null,
      "overflow_y": null,
      "padding": null,
      "right": null,
      "top": null,
      "visibility": null,
      "width": null
     }
    },
    "fb97206abcae4db598bf35902633ff57": {
     "model_module": "@jupyter-widgets/controls",
     "model_module_version": "1.5.0",
     "model_name": "HBoxModel",
     "state": {
      "_dom_classes": [],
      "_model_module": "@jupyter-widgets/controls",
      "_model_module_version": "1.5.0",
      "_model_name": "HBoxModel",
      "_view_count": null,
      "_view_module": "@jupyter-widgets/controls",
      "_view_module_version": "1.5.0",
      "_view_name": "HBoxView",
      "box_style": "",
      "children": [
       "IPY_MODEL_f07ab87c4b7646729ccbef5044e2b234",
       "IPY_MODEL_26fc0a428f444d768ec75a55f3eec6b9",
       "IPY_MODEL_3fe45ceaaf42439c8cd8c82ae0466132"
      ],
      "layout": "IPY_MODEL_2df6a6d391ef41bcb4e88623194ec33e"
     }
    }
   }
  }
 },
 "nbformat": 4,
 "nbformat_minor": 5
}
